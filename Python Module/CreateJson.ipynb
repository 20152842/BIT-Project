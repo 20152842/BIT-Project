{
 "cells": [
  {
   "cell_type": "code",
   "execution_count": 1,
   "id": "61a191f4-0dd0-406c-a6f7-369ea6c54179",
   "metadata": {},
   "outputs": [],
   "source": [
    "import json\n",
    "import os\n",
    "\n",
    "import pandas as pd\n",
    "import numpy as np\n",
    "import matplotlib.pyplot as plt\n",
    "import urllib.request\n",
    "from collections import Counter\n",
    "from sklearn.model_selection import train_test_split\n",
    "from tensorflow.keras.preprocessing.text import Tokenizer\n",
    "from tensorflow.keras.preprocessing.sequence import pad_sequences\n",
    "\n",
    "import re"
   ]
  },
  {
   "cell_type": "code",
   "execution_count": 7,
   "id": "f7ca6cab-93a1-4fb4-9b46-2114b735def2",
   "metadata": {},
   "outputs": [
    {
     "ename": "FileNotFoundError",
     "evalue": "[Errno 2] No such file or directory: 'C:\\\\test.json'",
     "output_type": "error",
     "traceback": [
      "\u001b[1;31m---------------------------------------------------------------------------\u001b[0m",
      "\u001b[1;31mFileNotFoundError\u001b[0m                         Traceback (most recent call last)",
      "\u001b[1;32m~\\AppData\\Local\\Temp\\ipykernel_6848\\1161146549.py\u001b[0m in \u001b[0;36m<module>\u001b[1;34m\u001b[0m\n\u001b[1;32m----> 1\u001b[1;33m \u001b[1;32mwith\u001b[0m \u001b[0mopen\u001b[0m\u001b[1;33m(\u001b[0m\u001b[1;34m'C:\\\\test.json'\u001b[0m\u001b[1;33m,\u001b[0m \u001b[1;34m'r'\u001b[0m\u001b[1;33m)\u001b[0m \u001b[1;32mas\u001b[0m \u001b[0mf\u001b[0m\u001b[1;33m:\u001b[0m\u001b[1;33m\u001b[0m\u001b[1;33m\u001b[0m\u001b[0m\n\u001b[0m\u001b[0;32m      2\u001b[0m \u001b[1;33m\u001b[0m\u001b[0m\n\u001b[0;32m      3\u001b[0m     \u001b[0mjson_data\u001b[0m \u001b[1;33m=\u001b[0m \u001b[0mjson\u001b[0m\u001b[1;33m.\u001b[0m\u001b[0mload\u001b[0m\u001b[1;33m(\u001b[0m\u001b[0mf\u001b[0m\u001b[1;33m)\u001b[0m\u001b[1;33m\u001b[0m\u001b[1;33m\u001b[0m\u001b[0m\n\u001b[0;32m      4\u001b[0m \u001b[1;33m\u001b[0m\u001b[0m\n\u001b[0;32m      5\u001b[0m \u001b[0mprint\u001b[0m\u001b[1;33m(\u001b[0m\u001b[0mjson\u001b[0m\u001b[1;33m.\u001b[0m\u001b[0mdumps\u001b[0m\u001b[1;33m(\u001b[0m\u001b[0mjson_data\u001b[0m\u001b[1;33m)\u001b[0m \u001b[1;33m)\u001b[0m\u001b[1;33m\u001b[0m\u001b[1;33m\u001b[0m\u001b[0m\n",
      "\u001b[1;31mFileNotFoundError\u001b[0m: [Errno 2] No such file or directory: 'C:\\\\test.json'"
     ]
    }
   ],
   "source": [
    "with open('C:\\\\test.json', 'r') as f:\n",
    "\n",
    "    json_data = json.load(f)\n",
    "\n",
    "print(json.dumps(json_data) )"
   ]
  },
  {
   "cell_type": "code",
   "execution_count": 8,
   "id": "a6ed0764-6807-4c04-b219-a543cf95473a",
   "metadata": {},
   "outputs": [
    {
     "ename": "NameError",
     "evalue": "name 'Image' is not defined",
     "output_type": "error",
     "traceback": [
      "\u001b[1;31m---------------------------------------------------------------------------\u001b[0m",
      "\u001b[1;31mNameError\u001b[0m                                 Traceback (most recent call last)",
      "\u001b[1;32m~\\AppData\\Local\\Temp\\ipykernel_6848\\1860392396.py\u001b[0m in \u001b[0;36m<module>\u001b[1;34m\u001b[0m\n\u001b[0;32m      4\u001b[0m         \u001b[1;32mfor\u001b[0m \u001b[0mf\u001b[0m \u001b[1;32min\u001b[0m \u001b[0mfilenames\u001b[0m\u001b[1;33m:\u001b[0m\u001b[1;33m\u001b[0m\u001b[1;33m\u001b[0m\u001b[0m\n\u001b[0;32m      5\u001b[0m             \u001b[0mpath\u001b[0m \u001b[1;33m=\u001b[0m \u001b[0mos\u001b[0m\u001b[1;33m.\u001b[0m\u001b[0mpath\u001b[0m\u001b[1;33m.\u001b[0m\u001b[0mjoin\u001b[0m\u001b[1;33m(\u001b[0m\u001b[0mdirname\u001b[0m\u001b[1;33m,\u001b[0m \u001b[0mf\u001b[0m\u001b[1;33m)\u001b[0m\u001b[1;33m\u001b[0m\u001b[1;33m\u001b[0m\u001b[0m\n\u001b[1;32m----> 6\u001b[1;33m             \u001b[0mimg\u001b[0m \u001b[1;33m=\u001b[0m \u001b[0mImage\u001b[0m\u001b[1;33m.\u001b[0m\u001b[0mopen\u001b[0m\u001b[1;33m(\u001b[0m\u001b[0mpath\u001b[0m\u001b[1;33m)\u001b[0m\u001b[1;33m\u001b[0m\u001b[1;33m\u001b[0m\u001b[0m\n\u001b[0m\u001b[0;32m      7\u001b[0m             \u001b[0mimg_resize\u001b[0m \u001b[1;33m=\u001b[0m \u001b[0mimg\u001b[0m\u001b[1;33m.\u001b[0m\u001b[0mresize\u001b[0m\u001b[1;33m(\u001b[0m\u001b[1;33m(\u001b[0m\u001b[1;36m224\u001b[0m\u001b[1;33m,\u001b[0m\u001b[1;36m224\u001b[0m\u001b[1;33m)\u001b[0m\u001b[1;33m,\u001b[0m \u001b[0mImage\u001b[0m\u001b[1;33m.\u001b[0m\u001b[0mResampling\u001b[0m\u001b[1;33m.\u001b[0m\u001b[0mLANCZOS\u001b[0m\u001b[1;33m)\u001b[0m\u001b[1;33m\u001b[0m\u001b[1;33m\u001b[0m\u001b[0m\n\u001b[0;32m      8\u001b[0m             \u001b[0mtitle\u001b[0m\u001b[1;33m,\u001b[0m \u001b[0mext\u001b[0m \u001b[1;33m=\u001b[0m \u001b[0mos\u001b[0m\u001b[1;33m.\u001b[0m\u001b[0mpath\u001b[0m\u001b[1;33m.\u001b[0m\u001b[0msplitext\u001b[0m\u001b[1;33m(\u001b[0m\u001b[0mf\u001b[0m\u001b[1;33m)\u001b[0m\u001b[1;33m\u001b[0m\u001b[1;33m\u001b[0m\u001b[0m\n",
      "\u001b[1;31mNameError\u001b[0m: name 'Image' is not defined"
     ]
    }
   ],
   "source": [
    "for dirname, dirs, filenames in os.walk('Image/test1'):\n",
    "    try:\n",
    "        num = 1\n",
    "        for f in filenames:    \n",
    "            path = os.path.join(dirname, f)\n",
    "            img = Image.open(path)\n",
    "            img_resize = img.resize((224,224), Image.Resampling.LANCZOS)\n",
    "            title, ext = os.path.splitext(f)\n",
    "            print(dirname + '/' + str(num) + '_re' + ext)\n",
    "            img_resize.save(dirname + '/' + str(num) + '_re' + ext)\n",
    "            num = num + 1\n",
    "    except FileNotFoundError as e:\n",
    "        print(e)\n",
    "        "
   ]
  },
  {
   "cell_type": "code",
   "execution_count": 2,
   "id": "c43756fa-1bdd-4c6e-9fe6-d126a4b32fdc",
   "metadata": {},
   "outputs": [],
   "source": [
    "import re\n",
    "#불용어 정의\n",
    "stopwords = ['도', '는', '다', '의', '가', '이', '은', '한', '에', '하', '고', '을', '를', '인', '듯', '과', '와', '네', '들', '듯', '지', '임', '게', '만', '게임', '겜', '되', '음', '면']\n",
    "stop = \"\"\"이\tVCP\t0.018279601\n",
    "있\tVA\t0.011699048\n",
    "하\tVV\t0.009773658\n",
    "것\tNNB\t0.00973315\n",
    "들\tXSN\t0.00689824\n",
    "그\tMM\t0.005327252\n",
    "되\tVV\t0.00361335\n",
    "수\tNNB\t0.003473622\n",
    "이\tNP\t0.003361203\n",
    "보\tVX\t0.003310379\n",
    "않\tVX\t0.0029757\n",
    "없\tVA\t0.002920476\n",
    "나\tNP\t0.002690479\n",
    "주\tVV\t0.001884579\n",
    "아니\tVCN\t0.001870774\n",
    "등\tNNB\t0.001822074\n",
    "같\tVA\t0.001724522\n",
    "우리\tNP\t0.001714509\n",
    "때\tNNG\t0.001685684\n",
    "년\tNNB\t0.001647755\n",
    "가\tVV\t0.001618626\n",
    "한\tMM\t0.001584036\n",
    "지\tVX\t0.001537763\n",
    "오\tVV\t0.001490884\n",
    "말\tNNG\t0.001321876\n",
    "일\tNNG\t0.001239799\n",
    "그렇\tVA\t0.001232062\n",
    "위하\tVV\t0.001170618\n",
    "때문\tNNB\t0.001146647\n",
    "그것\tNP\t0.001099161\n",
    "두\tVV\t0.001063053\n",
    "말하\tVV\t0.001030587\n",
    "알\tVV\t0.000995693\n",
    "그러나\tMAJ\t0.000978246\n",
    "받\tVV\t0.000924084\n",
    "못하\tVX\t0.000904665\n",
    "일\tNNB\t0.000880239\n",
    "그런\tMM\t0.000879481\n",
    "또\tMAG\t0.000870985\n",
    "문제\tNNG\t0.000823954\n",
    "더\tMAG\t0.000801652\n",
    "많\tVA\t0.000789211\n",
    "그리고\tMAJ\t0.000779653\n",
    "좋\tVA\t0.000763723\n",
    "크\tVA\t0.000758565\n",
    "따르\tVV\t0.000738084\n",
    "중\tNNB\t0.000733229\n",
    "나오\tVV\t0.000725188\n",
    "가지\tVV\t0.000720485\n",
    "씨\tNNB\t0.000710169\n",
    "시키\tXSV\t0.000707893\n",
    "만들\tVV\t0.000703797\n",
    "지금\tNNG\t0.000699701\n",
    "생각하\tVV\t0.000694846\n",
    "그러\tVV\t0.000692418\n",
    "속\tNNG\t0.00068544\n",
    "하나\tNR\t0.000655097\n",
    "집\tNNG\t0.000648573\n",
    "살\tVV\t0.000648422\n",
    "모르\tVV\t0.000645084\n",
    "적\tXSN\t0.000643112\n",
    "월\tNNB\t0.000639319\n",
    "데\tNNB\t0.000636436\n",
    "자신\tNNG\t0.000632188\n",
    "안\tMAG\t0.000625968\n",
    "어떤\tMM\t0.000623237\n",
    "내\tNP\t0.000622023\n",
    "내\tVV\t0.000614438\n",
    "경우\tNNG\t0.000613831\n",
    "명\tNNB\t0.00061019\n",
    "다시\tMAG\t0.00055618\n",
    "이런\tMM\t0.000550263\n",
    "앞\tNNG\t0.000548898\n",
    "보이\tVV\t0.000542678\n",
    "번\tNNB\t0.000542526\n",
    "나\tVX\t0.000538126\n",
    "다른\tMM\t0.000536306\n",
    "어떻\tVA\t0.000533423\n",
    "여자\tNNG\t0.000531754\n",
    "개\tNNB\t0.000530085\n",
    "전\tNNG\t0.00052872\n",
    "들\tVV\t0.000514914\n",
    "사실\tNNG\t0.000511728\n",
    "이렇\tVA\t0.000511576\n",
    "점\tNNG\t0.000507935\n",
    "싶\tVX\t0.000504749\n",
    "말\tVX\t0.000503991\n",
    "정도\tNNG\t0.000496102\n",
    "좀\tMAG\t0.000492916\n",
    "원\tNNB\t0.000492309\n",
    "잘\tMAG\t0.000491399\n",
    "통하\tVV\t0.000486847\n",
    "놓\tVX\t0.000482751\n",
    "했 zx 0.123232\n",
    "\"\"\"\n",
    "\n",
    "stoplist = re.split(r'[+ + \\t + \\n]', stop)\n",
    "# stoplist = re.split(r'[가-힣]', stop)\n",
    "# stoplist = re.compile('[가-힣]').findall(stop)\n",
    "for i in range(0, len(stoplist), 3):\n",
    "    stopwords.append(stoplist[i])\n",
    "stopwords= [s for s in stopwords if s != '']"
   ]
  },
  {
   "cell_type": "code",
   "execution_count": 3,
   "id": "6dd4b642-e171-474d-88e6-7e763dffe61d",
   "metadata": {},
   "outputs": [],
   "source": [
    "sentence = []\n",
    "sentences = []"
   ]
  },
  {
   "cell_type": "code",
   "execution_count": 4,
   "id": "dfff11c5-cd8f-43e7-a1a4-e0403bd1c86c",
   "metadata": {},
   "outputs": [],
   "source": [
    "sentences_tmp =[]"
   ]
  },
  {
   "cell_type": "code",
   "execution_count": 5,
   "id": "416f6562-6235-4dbe-90b8-74127e7078da",
   "metadata": {},
   "outputs": [
    {
     "name": "stdout",
     "output_type": "stream",
     "text": [
      "D:/Code/Muchine Learning/TensorFlow/Project/Project_Data/Json\\라벨링데이터\\TL_01. KAKAO(1)\\KAKAO_1648_13.json\n",
      "D:/Code/Muchine Learning/TensorFlow/Project/Project_Data/Json\\라벨링데이터2\\TL_1.shopping\\04.배송\\shopping4_0842.json\n"
     ]
    }
   ],
   "source": [
    "import os\n",
    "\n",
    "for dirname, dirs, filenames in os.walk('D:/Code/Muchine Learning/TensorFlow/Project/Project_Data/Json'):\n",
    "    try:\n",
    "        for f in filenames:    \n",
    "            path = os.path.join(dirname, f)\n",
    "            with open(path, 'r', encoding=\"UTF-8\") as f:\n",
    "                json_data = json.load(f)\n",
    "            for morp in json_data['info'][0]['annotations']['lines']:\n",
    "                sentence = []\n",
    "                tmp = morp['morpheme'].split(\"/\")\n",
    "                for i in range(0, len(tmp)):\n",
    "                    tmp2 = re.sub(\"[^ㄱ-ㅎㅏ-ㅣ가-힣 ]\",\"\",tmp[i])\n",
    "                    if tmp2 != '':\n",
    "                        sentence.append(tmp2)\n",
    "                sentences.append(sentence)\n",
    "    except:\n",
    "        print(path)\n",
    "        "
   ]
  },
  {
   "cell_type": "code",
   "execution_count": 6,
   "id": "d6fbeb71-d503-4202-bf8c-5514baffec53",
   "metadata": {},
   "outputs": [],
   "source": [
    "from konlpy.tag import Mecab\n",
    "\n",
    "mecab = Mecab(dicpath='C:/mecab/mecab-ko-dic')\n",
    "\n",
    "for dirname, dirs, filenames in os.walk('D:/Code/Muchine Learning/TensorFlow/Project/Project_Data/Json2'):\n",
    "    try:\n",
    "        for f in filenames:    \n",
    "            path = os.path.join(dirname, f)\n",
    "            with open(path, 'r', encoding=\"UTF-8\") as f:\n",
    "                json_data = json.load(f)\n",
    "            for data in json_data['named_entity']:\n",
    "                for datas in data['content']:\n",
    "                    tmp = re.sub(\"[^ㄱ-ㅎㅏ-ㅣ가-힣 ]\",\"\",datas['sentence'])\n",
    "                    tmp = mecab.morphs(tmp)\n",
    "                    tmp = (lambda x: [item for item in x if item not in stopwords])(tmp)\n",
    "            sentences.append(tmp)\n",
    "    except:\n",
    "        print(path)\n",
    "        "
   ]
  },
  {
   "cell_type": "code",
   "execution_count": 7,
   "id": "c74fc93c-5db7-4c85-b5d0-1300ddec8f07",
   "metadata": {},
   "outputs": [
    {
     "data": {
      "text/plain": [
       "2084762"
      ]
     },
     "execution_count": 7,
     "metadata": {},
     "output_type": "execute_result"
    }
   ],
   "source": [
    "len(sentences)"
   ]
  },
  {
   "cell_type": "code",
   "execution_count": 8,
   "id": "5c20188c-53eb-4067-a3ab-476382aab4ec",
   "metadata": {},
   "outputs": [],
   "source": [
    "emotions = ['가성비', '술집', '분위기', '청결', '맛집', '뷰', '한적', '시끌벅적', '활동적','기념일', '고급진', '감성적', '가족', '전통적', '모던한', '편안한', '색다른',\n",
    "'애견동반', '편리한', '이국적']"
   ]
  },
  {
   "cell_type": "code",
   "execution_count": 10,
   "id": "7e7ad8ce-f896-4174-a594-16c476572313",
   "metadata": {},
   "outputs": [],
   "source": [
    "from gensim.models import FastText"
   ]
  },
  {
   "cell_type": "code",
   "execution_count": 11,
   "id": "18589178-d256-4a61-9571-26b395d5fe69",
   "metadata": {},
   "outputs": [],
   "source": [
    "model= FastText(sentences=sentences, vector_ rnsize=300, window=5, min_count=10, workers=4, sg=1, epochs=10, negative=10)"
   ]
  },
  {
   "cell_type": "code",
   "execution_count": 13,
   "id": "07e270c9-1956-4a59-a6dd-dbc333c4789e",
   "metadata": {},
   "outputs": [],
   "source": [
    "model.save('FastText_Model')"
   ]
  },
  {
   "cell_type": "code",
   "execution_count": 2,
   "id": "dd5e87f4-1c8e-4c51-8c92-839125a5b53c",
   "metadata": {},
   "outputs": [],
   "source": [
    "from gensim.models import FastText\n",
    "FastText_model = FastText.load('FastText_Model')"
   ]
  },
  {
   "cell_type": "code",
   "execution_count": 8,
   "id": "fdf0fde5-79cd-4e1e-9683-e6e262c75673",
   "metadata": {},
   "outputs": [
    {
     "data": {
      "text/plain": [
       "[('성비', 0.8804663419723511),\n",
       " ('가성', 0.8698391914367676),\n",
       " ('건화', 0.5090944766998291),\n",
       " ('퀄리티', 0.5023016929626465),\n",
       " ('가솔린', 0.4650016725063324),\n",
       " ('장품', 0.46211758255958557),\n",
       " ('난가', 0.45574116706848145),\n",
       " ('연비', 0.4524238705635071),\n",
       " ('봉새', 0.44697242975234985),\n",
       " ('국산', 0.44504550099372864)]"
      ]
     },
     "execution_count": 8,
     "metadata": {},
     "output_type": "execute_result"
    }
   ],
   "source": [
    "FastText_model.wv.most_similar('가성비')"
   ]
  },
  {
   "cell_type": "code",
   "execution_count": 7,
   "id": "6baaecb6-1143-48f7-b762-614f0043c48b",
   "metadata": {},
   "outputs": [
    {
     "data": {
      "text/plain": [
       "[('모던', 0.9997764229774475),\n",
       " ('심플', 0.603992760181427),\n",
       " ('베이지', 0.5889343023300171),\n",
       " ('파스텔', 0.5812838077545166),\n",
       " ('빈티지', 0.5555866360664368),\n",
       " ('캐주얼', 0.5552440881729126),\n",
       " ('미니멀리즘', 0.5392196178436279),\n",
       " ('트렌디', 0.5307524800300598),\n",
       " ('버건', 0.5272061824798584),\n",
       " ('릴리', 0.5271058082580566)]"
      ]
     },
     "execution_count": 7,
     "metadata": {},
     "output_type": "execute_result"
    }
   ],
   "source": [
    "FastText_model.wv.most_similar('모던한')"
   ]
  },
  {
   "cell_type": "code",
   "execution_count": null,
   "id": "58c433e0-0685-4f64-aae7-22ad305fc3ea",
   "metadata": {},
   "outputs": [],
   "source": [
    "문장 크롤링 ->\n",
    "tf-idf 문장내 주요 단어 추출 ->\n",
    "추출 단어로 각 카테고리 해당 단어들 유사도 총 비교 ->\n",
    "기준치(ex: 0.4) 이상 값들만 합계 구하여 ->\n",
    "가장 유사한 카테고리 판별"
   ]
  },
  {
   "cell_type": "code",
   "execution_count": null,
   "id": "7de4acf3-1a59-470b-ae22-061afab888d7",
   "metadata": {},
   "outputs": [],
   "source": []
  }
 ],
 "metadata": {
  "kernelspec": {
   "display_name": "Python 3 (ipykernel)",
   "language": "python",
   "name": "python3"
  },
  "language_info": {
   "codemirror_mode": {
    "name": "ipython",
    "version": 3
   },
   "file_extension": ".py",
   "mimetype": "text/x-python",
   "name": "python",
   "nbconvert_exporter": "python",
   "pygments_lexer": "ipython3",
   "version": "3.7.5"
  }
 },
 "nbformat": 4,
 "nbformat_minor": 5
}
