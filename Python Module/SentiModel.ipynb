{
 "cells": [
  {
   "cell_type": "code",
   "execution_count": 1,
   "id": "2edc24c0-80bf-46be-81c4-ed47cf5e69e6",
   "metadata": {},
   "outputs": [
    {
     "name": "stdout",
     "output_type": "stream",
     "text": [
      "[name: \"/device:CPU:0\"\n",
      "device_type: \"CPU\"\n",
      "memory_limit: 268435456\n",
      "locality {\n",
      "}\n",
      "incarnation: 12224766857450221573\n",
      "xla_global_id: -1\n",
      ", name: \"/device:GPU:0\"\n",
      "device_type: \"GPU\"\n",
      "memory_limit: 1751174350\n",
      "locality {\n",
      "  bus_id: 1\n",
      "  links {\n",
      "  }\n",
      "}\n",
      "incarnation: 13735564389115019912\n",
      "physical_device_desc: \"device: 0, name: NVIDIA GeForce RTX 3050 Laptop GPU, pci bus id: 0000:01:00.0, compute capability: 8.6\"\n",
      "xla_global_id: 416903419\n",
      "]\n"
     ]
    }
   ],
   "source": [
    "import tensorflow\n",
    "\n",
    "from tensorflow.python.client import device_lib\n",
    "\n",
    "print(device_lib.list_local_devices())\n",
    "\n"
   ]
  },
  {
   "cell_type": "code",
   "execution_count": 2,
   "id": "2623de55-714e-46a4-b256-76fb8b6f2258",
   "metadata": {},
   "outputs": [
    {
     "name": "stdout",
     "output_type": "stream",
     "text": [
      "tf.Tensor(\n",
      "[[22. 28.]\n",
      " [49. 64.]], shape=(2, 2), dtype=float32)\n"
     ]
    }
   ],
   "source": [
    "import os\n",
    "import tensorflow\n",
    "\n",
    "# '0번' GPU 사용\n",
    "os.environ[\"CUDA_VISIBLE_DEVICES\"]=\"0\"\n",
    "gpus = tensorflow.config.experimental.list_physical_devices('GPU')\n",
    "tensorflow.config.experimental.set_visible_devices(gpus[0], 'GPU')\n",
    "\n",
    "if gpus:\n",
    "    try:\n",
    "        tensorflow.config.experimental.set_memory_growth(gpus[0], True)\n",
    "    except RuntimeError as e:\n",
    "        print(e)\n",
    "\n",
    "os.environ['TF_CPP_MIN_LOG_LEVEL'] = '3' \n",
    "#os.environ[\"CUDA_VISIBLE_DEVICES\"] = \"-1\" => cpu 사용 강제\n",
    "# tensorflow.debugging.set_log_device_placement(True)\n",
    "\n",
    "a = tensorflow.constant([[1.0, 2.0, 3.0], [4.0, 5.0, 6.0]])\n",
    "b = tensorflow.constant([[1.0, 2.0], [3.0, 4.0], [5.0, 6.0]])\n",
    "c = tensorflow.matmul(a, b)\n",
    "print(c)"
   ]
  },
  {
   "cell_type": "code",
   "execution_count": 3,
   "id": "e4c6a820-0868-4c3f-bb75-12e227eb5950",
   "metadata": {},
   "outputs": [],
   "source": [
    "from konlpy.tag import Mecab\n",
    "mecab = Mecab(dicpath='C:/mecab/mecab-ko-dic')"
   ]
  },
  {
   "cell_type": "code",
   "execution_count": 4,
   "id": "755be607-d886-4b18-9620-4cca085df6f8",
   "metadata": {},
   "outputs": [],
   "source": [
    "import pandas as pd\n",
    "import numpy as np\n",
    "import matplotlib.pyplot as plt\n",
    "import urllib.request\n",
    "from collections import Counter\n",
    "from sklearn.model_selection import train_test_split\n",
    "from tensorflow.keras.preprocessing.text import Tokenizer\n",
    "from tensorflow.keras.preprocessing.sequence import pad_sequences\n",
    "import re\n",
    "\n",
    "\n",
    "#뛰어쓰기 수정\n",
    "from pykospacing import Spacing\n",
    "spacing = Spacing()\n",
    "#맞춤법 수정\n",
    "from hanspell import spell_checker\n",
    "\n",
    "import sys\n",
    "import soynlp\n",
    "from soynlp.normalizer import *"
   ]
  },
  {
   "cell_type": "code",
   "execution_count": 5,
   "id": "55bf6cb7-2f40-409a-91b3-143e4f40395a",
   "metadata": {},
   "outputs": [],
   "source": [
    "#불용어 정의\n",
    "stopwords = ['도', '는', '다', '의', '가', '이', '은', '한', '에', '하', '고', '을', '를', '인', '듯', '과', '와', '네', '들', '듯', '지', '임', '게', '만', '게임', '겜', '되', '음', '면']\n",
    "stop = \"\"\"이\tVCP\t0.018279601\n",
    "있\tVA\t0.011699048\n",
    "하\tVV\t0.009773658\n",
    "것\tNNB\t0.00973315\n",
    "들\tXSN\t0.00689824\n",
    "그\tMM\t0.005327252\n",
    "되\tVV\t0.00361335\n",
    "수\tNNB\t0.003473622\n",
    "이\tNP\t0.003361203\n",
    "보\tVX\t0.003310379\n",
    "않\tVX\t0.0029757\n",
    "없\tVA\t0.002920476\n",
    "나\tNP\t0.002690479\n",
    "사람\tNNG\t0.002073917\n",
    "주\tVV\t0.001884579\n",
    "아니\tVCN\t0.001870774\n",
    "등\tNNB\t0.001822074\n",
    "같\tVA\t0.001724522\n",
    "우리\tNP\t0.001714509\n",
    "때\tNNG\t0.001685684\n",
    "년\tNNB\t0.001647755\n",
    "가\tVV\t0.001618626\n",
    "한\tMM\t0.001584036\n",
    "지\tVX\t0.001537763\n",
    "대하\tVV\t0.00150378\n",
    "오\tVV\t0.001490884\n",
    "말\tNNG\t0.001321876\n",
    "일\tNNG\t0.001239799\n",
    "그렇\tVA\t0.001232062\n",
    "위하\tVV\t0.001170618\n",
    "때문\tNNB\t0.001146647\n",
    "그것\tNP\t0.001099161\n",
    "두\tVV\t0.001063053\n",
    "말하\tVV\t0.001030587\n",
    "알\tVV\t0.000995693\n",
    "그러나\tMAJ\t0.000978246\n",
    "받\tVV\t0.000924084\n",
    "못하\tVX\t0.000904665\n",
    "일\tNNB\t0.000880239\n",
    "그런\tMM\t0.000879481\n",
    "또\tMAG\t0.000870985\n",
    "문제\tNNG\t0.000823954\n",
    "더\tMAG\t0.000801652\n",
    "사회\tNNG\t0.000793459\n",
    "많\tVA\t0.000789211\n",
    "그리고\tMAJ\t0.000779653\n",
    "좋\tVA\t0.000763723\n",
    "크\tVA\t0.000758565\n",
    "따르\tVV\t0.000738084\n",
    "중\tNNB\t0.000733229\n",
    "나오\tVV\t0.000725188\n",
    "가지\tVV\t0.000720485\n",
    "씨\tNNB\t0.000710169\n",
    "시키\tXSV\t0.000707893\n",
    "만들\tVV\t0.000703797\n",
    "지금\tNNG\t0.000699701\n",
    "생각하\tVV\t0.000694846\n",
    "그러\tVV\t0.000692418\n",
    "속\tNNG\t0.00068544\n",
    "하나\tNR\t0.000655097\n",
    "집\tNNG\t0.000648573\n",
    "살\tVV\t0.000648422\n",
    "모르\tVV\t0.000645084\n",
    "적\tXSN\t0.000643112\n",
    "월\tNNB\t0.000639319\n",
    "데\tNNB\t0.000636436\n",
    "자신\tNNG\t0.000632188\n",
    "안\tMAG\t0.000625968\n",
    "어떤\tMM\t0.000623237\n",
    "내\tNP\t0.000622023\n",
    "내\tVV\t0.000614438\n",
    "경우\tNNG\t0.000613831\n",
    "명\tNNB\t0.00061019\n",
    "생각\tNNG\t0.000587433\n",
    "시간\tNNG\t0.00057302\n",
    "그녀\tNP\t0.000571806\n",
    "다시\tMAG\t0.00055618\n",
    "이런\tMM\t0.000550263\n",
    "앞\tNNG\t0.000548898\n",
    "보이\tVV\t0.000542678\n",
    "번\tNNB\t0.000542526\n",
    "나\tVX\t0.000538126\n",
    "다른\tMM\t0.000536306\n",
    "어떻\tVA\t0.000533423\n",
    "여자\tNNG\t0.000531754\n",
    "개\tNNB\t0.000530085\n",
    "전\tNNG\t0.00052872\n",
    "들\tVV\t0.000514914\n",
    "사실\tNNG\t0.000511728\n",
    "이렇\tVA\t0.000511576\n",
    "점\tNNG\t0.000507935\n",
    "싶\tVX\t0.000504749\n",
    "말\tVX\t0.000503991\n",
    "정도\tNNG\t0.000496102\n",
    "좀\tMAG\t0.000492916\n",
    "원\tNNB\t0.000492309\n",
    "잘\tMAG\t0.000491399\n",
    "통하\tVV\t0.000486847\n",
    "소리\tNNG\t0.000485633\n",
    "놓\tVX\t0.000482751\n",
    "\"\"\"\n",
    "\n",
    "stoplist = re.split(r'[+ + \\t + \\n]', stop)\n",
    "# stoplist = re.split(r'[가-힣]', stop)\n",
    "# stoplist = re.compile('[가-힣]').findall(stop)\n",
    "for i in range(0, len(stoplist), 3):\n",
    "    stopwords.append(stoplist[i])\n",
    "stopwords= [s for s in stopwords if s != '']"
   ]
  },
  {
   "cell_type": "code",
   "execution_count": 6,
   "id": "9e72bda4-6a67-425f-bde2-a51f5e63cc9d",
   "metadata": {},
   "outputs": [],
   "source": [
    "naver_movie = pd.read_table('naver_movie.txt')\n",
    "naver_shopping = pd.read_table('naver_shopping.txt',names=['label', 'reviews'])\n",
    "steam = pd.read_table('steam.txt',names=['label', 'reviews'])"
   ]
  },
  {
   "cell_type": "code",
   "execution_count": 7,
   "id": "4f622715-04b6-4129-ab80-a83f7ef843bb",
   "metadata": {},
   "outputs": [],
   "source": [
    "naver_movie.rename(columns = {\"document\":\"reviews\"}, inplace=True)\n",
    "naver_movie.drop('id', axis = 1, inplace = True)"
   ]
  },
  {
   "cell_type": "code",
   "execution_count": 8,
   "id": "be243f5f-87b9-4a49-a90b-24f14d73eedf",
   "metadata": {},
   "outputs": [],
   "source": [
    "naver_shopping['label'] = np.select([naver_shopping.label > 3], [1], default=0)"
   ]
  },
  {
   "cell_type": "code",
   "execution_count": 9,
   "id": "b49b9023-2d1b-472b-b7c2-3a5e44303b9f",
   "metadata": {},
   "outputs": [
    {
     "name": "stdout",
     "output_type": "stream",
     "text": [
      "True\n",
      "False\n",
      "False\n"
     ]
    }
   ],
   "source": [
    "naver_movie.drop_duplicates(subset=['reviews'], inplace=True)\n",
    "naver_shopping.drop_duplicates(subset=['reviews'], inplace=True)\n",
    "steam.drop_duplicates(subset=['reviews'], inplace=True)\n",
    "print(naver_movie.isnull().values.any())\n",
    "print(naver_shopping.isnull().values.any())\n",
    "print(steam.isnull().values.any())\n"
   ]
  },
  {
   "cell_type": "code",
   "execution_count": 10,
   "id": "9ea1c57c-145c-4864-b176-ac4ad20584c0",
   "metadata": {},
   "outputs": [],
   "source": [
    "naver_movie['category'] = 'movie'\n",
    "naver_shopping['category'] = 'shopping'\n",
    "steam['category'] = 'steam'"
   ]
  },
  {
   "cell_type": "code",
   "execution_count": 11,
   "id": "23ba708a-0d61-4201-a251-9449ba18e50c",
   "metadata": {},
   "outputs": [],
   "source": [
    "total_data = pd.concat([naver_movie, naver_shopping, steam], ignore_index = False)\n",
    "total_data = total_data.reset_index(drop=True)"
   ]
  },
  {
   "cell_type": "code",
   "execution_count": 12,
   "id": "c9ba9ba2-3d98-462a-a1a5-65caa9f0e205",
   "metadata": {},
   "outputs": [
    {
     "data": {
      "text/html": [
       "<div>\n",
       "<style scoped>\n",
       "    .dataframe tbody tr th:only-of-type {\n",
       "        vertical-align: middle;\n",
       "    }\n",
       "\n",
       "    .dataframe tbody tr th {\n",
       "        vertical-align: top;\n",
       "    }\n",
       "\n",
       "    .dataframe thead th {\n",
       "        text-align: right;\n",
       "    }\n",
       "</style>\n",
       "<table border=\"1\" class=\"dataframe\">\n",
       "  <thead>\n",
       "    <tr style=\"text-align: right;\">\n",
       "      <th></th>\n",
       "      <th>reviews</th>\n",
       "      <th>label</th>\n",
       "      <th>category</th>\n",
       "    </tr>\n",
       "  </thead>\n",
       "  <tbody>\n",
       "    <tr>\n",
       "      <th>0</th>\n",
       "      <td>어릴때보고 지금다시봐도 재밌어요ㅋㅋ</td>\n",
       "      <td>1</td>\n",
       "      <td>movie</td>\n",
       "    </tr>\n",
       "    <tr>\n",
       "      <th>1</th>\n",
       "      <td>디자인을 배우는 학생으로, 외국디자이너와 그들이 일군 전통을 통해 발전해가는 문화산...</td>\n",
       "      <td>1</td>\n",
       "      <td>movie</td>\n",
       "    </tr>\n",
       "    <tr>\n",
       "      <th>2</th>\n",
       "      <td>폴리스스토리 시리즈는 1부터 뉴까지 버릴께 하나도 없음.. 최고.</td>\n",
       "      <td>1</td>\n",
       "      <td>movie</td>\n",
       "    </tr>\n",
       "    <tr>\n",
       "      <th>3</th>\n",
       "      <td>와.. 연기가 진짜 개쩔구나.. 지루할거라고 생각했는데 몰입해서 봤다.. 그래 이런...</td>\n",
       "      <td>1</td>\n",
       "      <td>movie</td>\n",
       "    </tr>\n",
       "    <tr>\n",
       "      <th>4</th>\n",
       "      <td>안개 자욱한 밤하늘에 떠 있는 초승달 같은 영화.</td>\n",
       "      <td>1</td>\n",
       "      <td>movie</td>\n",
       "    </tr>\n",
       "    <tr>\n",
       "      <th>...</th>\n",
       "      <td>...</td>\n",
       "      <td>...</td>\n",
       "      <td>...</td>\n",
       "    </tr>\n",
       "    <tr>\n",
       "      <th>494339</th>\n",
       "      <td>한글화해주면 10개산다</td>\n",
       "      <td>0</td>\n",
       "      <td>steam</td>\n",
       "    </tr>\n",
       "    <tr>\n",
       "      <th>494340</th>\n",
       "      <td>개쌉노잼 ㅋㅋ</td>\n",
       "      <td>0</td>\n",
       "      <td>steam</td>\n",
       "    </tr>\n",
       "    <tr>\n",
       "      <th>494341</th>\n",
       "      <td>노잼이네요... 30분하고 지웠어요...</td>\n",
       "      <td>0</td>\n",
       "      <td>steam</td>\n",
       "    </tr>\n",
       "    <tr>\n",
       "      <th>494342</th>\n",
       "      <td>야생을 사랑하는 사람들을 위한 짧지만 여운이 남는 이야기. 영어는 그리 어렵지 않습니다.</td>\n",
       "      <td>1</td>\n",
       "      <td>steam</td>\n",
       "    </tr>\n",
       "    <tr>\n",
       "      <th>494343</th>\n",
       "      <td>한국의 메탈레이지를 떠오르게한다 진짜 손맛으로 하는게임</td>\n",
       "      <td>1</td>\n",
       "      <td>steam</td>\n",
       "    </tr>\n",
       "  </tbody>\n",
       "</table>\n",
       "<p>494344 rows × 3 columns</p>\n",
       "</div>"
      ],
      "text/plain": [
       "                                                  reviews  label category\n",
       "0                                     어릴때보고 지금다시봐도 재밌어요ㅋㅋ      1    movie\n",
       "1       디자인을 배우는 학생으로, 외국디자이너와 그들이 일군 전통을 통해 발전해가는 문화산...      1    movie\n",
       "2                    폴리스스토리 시리즈는 1부터 뉴까지 버릴께 하나도 없음.. 최고.      1    movie\n",
       "3       와.. 연기가 진짜 개쩔구나.. 지루할거라고 생각했는데 몰입해서 봤다.. 그래 이런...      1    movie\n",
       "4                             안개 자욱한 밤하늘에 떠 있는 초승달 같은 영화.      1    movie\n",
       "...                                                   ...    ...      ...\n",
       "494339                                       한글화해주면 10개산다      0    steam\n",
       "494340                                            개쌉노잼 ㅋㅋ      0    steam\n",
       "494341                             노잼이네요... 30분하고 지웠어요...      0    steam\n",
       "494342  야생을 사랑하는 사람들을 위한 짧지만 여운이 남는 이야기. 영어는 그리 어렵지 않습니다.      1    steam\n",
       "494343                     한국의 메탈레이지를 떠오르게한다 진짜 손맛으로 하는게임      1    steam\n",
       "\n",
       "[494344 rows x 3 columns]"
      ]
     },
     "execution_count": 12,
     "metadata": {},
     "output_type": "execute_result"
    }
   ],
   "source": [
    "total_data"
   ]
  },
  {
   "cell_type": "code",
   "execution_count": 13,
   "id": "7cd90e34-8f07-41f0-b2cd-a99c4e14665d",
   "metadata": {},
   "outputs": [
    {
     "name": "stdout",
     "output_type": "stream",
     "text": [
      "총 샘플의 수 : 493988\n",
      "True\n",
      "훈련용 리뷰의 개수 : 395190\n",
      "테스트용 리뷰의 개수 : 98798\n"
     ]
    }
   ],
   "source": [
    "total_data['reviews'].nunique(), total_data['label'].nunique()\n",
    "total_data.drop_duplicates(subset=['reviews'], inplace=True) # reviews 열에서 중복인 내용이 있다면 중복 제거\n",
    "print('총 샘플의 수 :',len(total_data))\n",
    "print(total_data.isnull().values.any())\n",
    "\n",
    "\n",
    "train_data, test_data = train_test_split(total_data, test_size = 0.2, random_state = 42)\n",
    "print('훈련용 리뷰의 개수 :', len(train_data))\n",
    "print('테스트용 리뷰의 개수 :', len(test_data))"
   ]
  },
  {
   "cell_type": "code",
   "execution_count": 14,
   "id": "f74586be-a10f-4634-874a-76482a8c54b9",
   "metadata": {},
   "outputs": [
    {
     "name": "stdout",
     "output_type": "stream",
     "text": [
      "reviews     0\n",
      "label       0\n",
      "category    0\n",
      "dtype: int64\n",
      "reviews     0\n",
      "label       0\n",
      "category    0\n",
      "dtype: int64\n",
      "전처리 후 훈련용 샘플의 개수 : 394794\n",
      "전처리 후 테스트용 샘플의 개수 : 98702\n"
     ]
    }
   ],
   "source": [
    "# 한글과 공백을 제외하고 모두 제거\n",
    "train_data['reviews'] = train_data['reviews'].str.replace(\"[^ㄱ-ㅎㅏ-ㅣ가-힣 ]\",\"\",regex=True)\n",
    "train_data['reviews'].replace('', np.nan, inplace=True)\n",
    "train_data = train_data.dropna(how='any') # Null 값 제거\n",
    "print(train_data.isnull().sum())\n",
    "\n",
    "test_data.drop_duplicates(subset = ['reviews'], inplace=True) # 중복 제거\n",
    "test_data['reviews'] = test_data['reviews'].str.replace(\"[^ㄱ-ㅎㅏ-ㅣ가-힣 ]\",\"\",regex=True) # 정규 표현식 수행\n",
    "test_data['reviews'].replace('', np.nan, inplace=True) # 공백은 Null 값으로 변경\n",
    "test_data = test_data.dropna(how='any') # Null 값 제거\n",
    "print(train_data.isnull().sum())\n",
    "print('전처리 후 훈련용 샘플의 개수 :',len(train_data))\n",
    "print('전처리 후 테스트용 샘플의 개수 :',len(test_data))\n",
    "\n",
    "train_data = train_data.reset_index(drop=True)\n",
    "test_data = test_data.reset_index(drop=True)"
   ]
  },
  {
   "cell_type": "code",
   "execution_count": 15,
   "id": "52a66f7d-68b5-4cae-8ecb-2316a8e4ed60",
   "metadata": {},
   "outputs": [],
   "source": [
    "def text_process(text):\n",
    "    m = re.search('ㅋ+|ㅠ+|ㅜ+', text)\n",
    "    if m:\n",
    "        tmp = spacing(text)\n",
    "        tmp = spell_checker.check(tmp)[2]\n",
    "        tmp = emoticon_normalize(tmp)\n",
    "        tmp = re.sub('ㅋ+|ㅠ+|ㅜ+', '', tmp)\n",
    "        tmp = repeat_normalize(tmp, num_repeats=1)\n",
    "        return tmp\n",
    "\n",
    "    else :\n",
    "        tmp = text\n",
    "    tmp = spacing(tmp)\n",
    "    tmp = spell_checker.check(tmp)[2] \n",
    "    return tmp"
   ]
  },
  {
   "cell_type": "code",
   "execution_count": null,
   "id": "3efb3727-1918-46ed-a8a3-06b071e61a4f",
   "metadata": {},
   "outputs": [],
   "source": [
    "# def text_process(text):\n",
    "#     m = re.search('ㅋ+|ㅠ+|ㅜ+', text)\n",
    "#     if m:\n",
    "#         return repeat_normalize(re.sub('ㅋ+|ㅠ+|ㅜ+', '', emoticon_normalize(spell_checker.check(spacing(text))[2])), num_repeats=1)\n",
    "\n",
    "#     else :\n",
    "#         return spell_checker.check(spacing(text))[2] \n"
   ]
  },
  {
   "cell_type": "code",
   "execution_count": null,
   "id": "3e03790b-85fc-4529-bf54-a695b243e50e",
   "metadata": {},
   "outputs": [],
   "source": [
    "for k in range(0, len(train_data['reviews'])//50000 + 1):\n",
    "    print('start ' + str(k))\n",
    "    if k == 7:\n",
    "        for i in range(50000*k, len(train_data['reviews'])):\n",
    "            train_data['reviews'][i] = text_process(train_data['reviews'][i])\n",
    "        continue\n",
    "    \n",
    "    for i in range(50000*k, 50000*k + 50000):\n",
    "        train_data['reviews'][i] = text_process(train_data['reviews'][i])\n",
    "    print('finish ' + str(k))\n",
    "    train_data.to_csv('stores1.csv', encoding = 'utf-8',index = False)\n"
   ]
  },
  {
   "cell_type": "code",
   "execution_count": 16,
   "id": "0b629e04-19f3-4762-bfd0-c9ff686c5c88",
   "metadata": {},
   "outputs": [],
   "source": [
    "train_data = pd.read_csv('D:/Code/Muchine Learning/TensorFlow/Project/train_data_300000.csv',encoding='utf-8')\n"
   ]
  },
  {
   "cell_type": "code",
   "execution_count": 17,
   "id": "d96b091e-0ec9-4859-9670-8b360556b383",
   "metadata": {},
   "outputs": [
    {
     "name": "stderr",
     "output_type": "stream",
     "text": [
      "C:\\Users\\namgy\\anaconda3\\envs\\python_VM\\lib\\site-packages\\ipykernel_launcher.py:3: SettingWithCopyWarning: \n",
      "A value is trying to be set on a copy of a slice from a DataFrame\n",
      "\n",
      "See the caveats in the documentation: https://pandas.pydata.org/pandas-docs/stable/user_guide/indexing.html#returning-a-view-versus-a-copy\n",
      "  This is separate from the ipykernel package so we can avoid doing imports until\n"
     ]
    },
    {
     "name": "stdout",
     "output_type": "stream",
     "text": [
      "pass\n",
      "pass\n",
      "pass\n",
      "strs save\n"
     ]
    }
   ],
   "source": [
    "for i in range(300001, len(train_data['reviews'])):\n",
    "    try:\n",
    "        train_data['reviews'][i] = text_process(train_data['reviews'][i])\n",
    "        if(i % 50000 == 0):\n",
    "            strs = 'train_data_' + str(i) + '.csv'\n",
    "            train_data.to_csv(strs, encoding = 'utf-8',index = False)\n",
    "            print('strs save')\n",
    "    except:\n",
    "        print('pass')\n",
    "        pass"
   ]
  },
  {
   "cell_type": "code",
   "execution_count": 19,
   "id": "7d120ef3-ddd1-4ae6-ab74-08362f88756a",
   "metadata": {},
   "outputs": [],
   "source": [
    "train_data.to_csv('train_data_final.csv', encoding = 'utf-8',index = False)\n"
   ]
  },
  {
   "cell_type": "code",
   "execution_count": 18,
   "id": "60688b23-19b7-4785-835f-22cf1dd80586",
   "metadata": {},
   "outputs": [
    {
     "data": {
      "text/plain": [
       "98702"
      ]
     },
     "execution_count": 18,
     "metadata": {},
     "output_type": "execute_result"
    }
   ],
   "source": [
    "len(test_data)"
   ]
  },
  {
   "cell_type": "code",
   "execution_count": 20,
   "id": "1339b160-9ce5-4b37-a855-5be0d7feb36b",
   "metadata": {},
   "outputs": [
    {
     "name": "stderr",
     "output_type": "stream",
     "text": [
      "C:\\Users\\namgy\\anaconda3\\envs\\python_VM\\lib\\site-packages\\ipykernel_launcher.py:3: SettingWithCopyWarning: \n",
      "A value is trying to be set on a copy of a slice from a DataFrame\n",
      "\n",
      "See the caveats in the documentation: https://pandas.pydata.org/pandas-docs/stable/user_guide/indexing.html#returning-a-view-versus-a-copy\n",
      "  This is separate from the ipykernel package so we can avoid doing imports until\n"
     ]
    },
    {
     "name": "stdout",
     "output_type": "stream",
     "text": [
      "strs save\n",
      "pass\n",
      "strs save\n",
      "pass\n",
      "pass\n",
      "pass\n",
      "strs save\n",
      "pass\n",
      "pass\n",
      "strs save\n"
     ]
    }
   ],
   "source": [
    "for i in range(0, len(test_data['reviews'])):\n",
    "    try:\n",
    "        test_data['reviews'][i] = text_process(test_data['reviews'][i])\n",
    "        if(i % 30000 == 0):\n",
    "            strs = 'test_data' + str(i) + '.csv'\n",
    "            test_data.to_csv(strs, encoding = 'utf-8',index = False)\n",
    "            print('strs save')\n",
    "    except:\n",
    "        print('pass')\n",
    "        pass"
   ]
  },
  {
   "cell_type": "code",
   "execution_count": 21,
   "id": "2dc3792a-0e81-4593-97c4-ce043bfdf02b",
   "metadata": {},
   "outputs": [],
   "source": [
    "test_data.to_csv('test_data_final.csv', encoding = 'utf-8',index = False)\n"
   ]
  },
  {
   "cell_type": "code",
   "execution_count": 6,
   "id": "3b0e9575-8458-476d-905a-6694aaa9f66f",
   "metadata": {},
   "outputs": [],
   "source": [
    "train_data = pd.read_csv('D:/Code/Muchine Learning/TensorFlow/Project/train_data_final.csv',encoding='utf-8')\n",
    "test_data = pd.read_csv('D:/Code/Muchine Learning/TensorFlow/Project/test_data_final.csv',encoding='utf-8')\n"
   ]
  },
  {
   "cell_type": "code",
   "execution_count": 7,
   "id": "e94844af-bed1-4185-803c-af1dad4ee6bc",
   "metadata": {},
   "outputs": [
    {
     "name": "stdout",
     "output_type": "stream",
     "text": [
      "reviews     0\n",
      "label       0\n",
      "category    0\n",
      "dtype: int64\n",
      "reviews     0\n",
      "label       0\n",
      "category    0\n",
      "dtype: int64\n",
      "전처리 후 훈련용 샘플의 개수 : 394296\n",
      "전처리 후 테스트용 샘플의 개수 : 97932\n"
     ]
    }
   ],
   "source": [
    "# 한글과 공백을 제외하고 모두 제거\n",
    "train_data['reviews'] = train_data['reviews'].str.replace(\"[^ㄱ-ㅎㅏ-ㅣ가-힣 ]\",\"\",regex=True)\n",
    "train_data['reviews'].replace('', np.nan, inplace=True)\n",
    "train_data = train_data.dropna(how='any') # Null 값 제거\n",
    "print(train_data.isnull().sum())\n",
    "\n",
    "test_data.drop_duplicates(subset = ['reviews'], inplace=True) # 중복 제거\n",
    "test_data['reviews'] = test_data['reviews'].str.replace(\"[^ㄱ-ㅎㅏ-ㅣ가-힣 ]\",\"\",regex=True) # 정규 표현식 수행\n",
    "test_data['reviews'].replace('', np.nan, inplace=True) # 공백은 Null 값으로 변경\n",
    "test_data = test_data.dropna(how='any') # Null 값 제거\n",
    "print(train_data.isnull().sum())\n",
    "print('전처리 후 훈련용 샘플의 개수 :',len(train_data))\n",
    "print('전처리 후 테스트용 샘플의 개수 :',len(test_data))\n",
    "\n",
    "train_data = train_data.reset_index(drop=True)\n",
    "test_data = test_data.reset_index(drop=True)"
   ]
  },
  {
   "cell_type": "code",
   "execution_count": 8,
   "id": "2df2fec7-daa5-4adf-9a63-704c42709c4e",
   "metadata": {},
   "outputs": [],
   "source": [
    "train_data['tokenized'] = train_data['reviews'].apply(mecab.morphs)\n",
    "train_data['tokenized'] = train_data['tokenized'].apply(lambda x: [item for item in x if item not in stopwords])\n",
    "test_data['tokenized'] = test_data['reviews'].apply(mecab.morphs)\n",
    "test_data['tokenized'] = test_data['tokenized'].apply(lambda x: [item for item in x if item not in stopwords])"
   ]
  },
  {
   "cell_type": "code",
   "execution_count": 9,
   "id": "10ac781a-3b2c-4436-b5b9-e3473b562c96",
   "metadata": {},
   "outputs": [],
   "source": [
    "train_data = train_data.reset_index(drop=True)\n",
    "test_data = test_data.reset_index(drop=True)\n",
    "\n",
    "\n",
    "#너무 짧은 리뷰는 제거\n",
    "for i in range(1, len(train_data['tokenized'])):\n",
    "    if len(train_data['tokenized'][i]) < 2:\n",
    "        train_data = train_data.drop([i],axis = 0)\n",
    "        \n",
    "\n",
    "for i in range(1, len(test_data['tokenized'])):\n",
    "    if len(test_data['tokenized'][i]) < 2:\n",
    "        test_data = test_data.drop([i],axis = 0)\n",
    "        \n",
    "train_data = train_data.reset_index(drop=True)\n",
    "test_data = test_data.reset_index(drop=True)\n",
    "\n",
    "\n",
    "X_train = train_data['tokenized'].values\n",
    "y_train = train_data['label'].values\n",
    "X_test= test_data['tokenized'].values\n",
    "y_test = test_data['label'].values\n",
    "\n",
    "tokenizer = Tokenizer()\n",
    "tokenizer.fit_on_texts(X_train)"
   ]
  },
  {
   "cell_type": "code",
   "execution_count": 18,
   "id": "4c3e2e4c-82f0-45c7-a95d-5d327f7dcef3",
   "metadata": {},
   "outputs": [
    {
     "name": "stdout",
     "output_type": "stream",
     "text": [
      "단어 집합(vocabulary)의 크기 : 67536\n",
      "등장 빈도가 2번 이하인 희귀 단어의 수: 24893\n",
      "단어 집합에서 희귀 단어의 비율: 36.85886045960673\n",
      "전체 등장 빈도에서 희귀 단어 등장 빈도 비율: 0.5492931764340363\n"
     ]
    }
   ],
   "source": [
    "threshold = 2\n",
    "total_cnt = len(tokenizer.word_index) # 단어의 수\n",
    "rare_cnt = 0 # 등장 빈도수가 threshold보다 작은 단어의 개수를 카운트\n",
    "total_freq = 0 # 훈련 데이터의 전체 단어 빈도수 총 합\n",
    "rare_freq = 0 # 등장 빈도수가 threshold보다 작은 단어의 등장 빈도수의 총 합\n",
    "\n",
    "# 단어와 빈도수의 쌍(pair)을 key와 value로 받는다.\n",
    "for key, value in tokenizer.word_counts.items():\n",
    "    total_freq = total_freq + value\n",
    "\n",
    "    # 단어의 등장 빈도수가 threshold보다 작으면\n",
    "    if(value < threshold):\n",
    "        rare_cnt = rare_cnt + 1\n",
    "        rare_freq = rare_freq + value\n",
    "\n",
    "print('단어 집합(vocabulary)의 크기 :',total_cnt)\n",
    "print('등장 빈도가 %s번 이하인 희귀 단어의 수: %s'%(threshold , rare_cnt))\n",
    "print(\"단어 집합에서 희귀 단어의 비율:\", (rare_cnt / total_cnt)*100)\n",
    "print(\"전체 등장 빈도에서 희귀 단어 등장 빈도 비율:\", (rare_freq / total_freq)*100)\n"
   ]
  },
  {
   "cell_type": "code",
   "execution_count": 19,
   "id": "5a2360f5-fada-4c19-b20d-7e6ab5f03daa",
   "metadata": {},
   "outputs": [
    {
     "name": "stdout",
     "output_type": "stream",
     "text": [
      "단어 집합의 크기 : 42645\n"
     ]
    }
   ],
   "source": [
    "# 전체 단어 개수 중 빈도수 2이하인 단어 개수는 제거.\n",
    "# 0번 패딩 토큰과 1번 OOV 토큰을 고려하여 +2\n",
    "vocab_size = total_cnt - rare_cnt + 2\n",
    "print('단어 집합의 크기 :',vocab_size)\n",
    "\n",
    "tokenizer = Tokenizer(vocab_size, oov_token = 'OOV') \n",
    "tokenizer.fit_on_texts(X_train)\n",
    "\n",
    "X_train = tokenizer.texts_to_sequences(X_train)\n",
    "X_test = tokenizer.texts_to_sequences(X_test)\n",
    "\n"
   ]
  },
  {
   "cell_type": "code",
   "execution_count": 20,
   "id": "1128fabd-5925-4e38-a3c4-5e335766e84f",
   "metadata": {},
   "outputs": [
    {
     "name": "stdout",
     "output_type": "stream",
     "text": [
      "리뷰의 최대 길이 : 81\n",
      "리뷰의 평균 길이 : 11.664266116204487\n"
     ]
    },
    {
     "data": {
      "image/png": "[encoded data removed]",
      "text/plain": [
       "<Figure size 640x480 with 1 Axes>"
      ]
     },
     "metadata": {},
     "output_type": "display_data"
    }
   ],
   "source": [
    "print('리뷰의 최대 길이 :',max(len(review) for review in X_train))\n",
    "print('리뷰의 평균 길이 :',sum(map(len, X_train))/len(X_train))\n",
    "plt.hist([len(review) for review in X_train], bins=50)\n",
    "plt.xlabel('length of samples')\n",
    "plt.ylabel('number of samples')\n",
    "plt.show()"
   ]
  },
  {
   "cell_type": "code",
   "execution_count": 21,
   "id": "f75d0f81-5165-4204-bb99-738426ddc1c6",
   "metadata": {},
   "outputs": [
    {
     "name": "stdout",
     "output_type": "stream",
     "text": [
      "전체 샘플 중 길이가 50 이하인 샘플의 비율: 99.97143018928143\n"
     ]
    }
   ],
   "source": [
    "def below_threshold_len(max_len, nested_list):\n",
    "    count = 0\n",
    "    for sentence in nested_list:\n",
    "        if(len(sentence) <= max_len):\n",
    "            count = count + 1\n",
    "    print('전체 샘플 중 길이가 %s 이하인 샘플의 비율: %s'%(max_len, (count / len(nested_list))*100))\n",
    "\n",
    "max_len = 50\n",
    "below_threshold_len(max_len, X_train)"
   ]
  },
  {
   "cell_type": "code",
   "execution_count": 22,
   "id": "d0b64547-3c3a-431d-a294-498fbeec2cd6",
   "metadata": {},
   "outputs": [],
   "source": [
    "\n",
    "X_train = pad_sequences(X_train, maxlen=max_len)\n",
    "X_test = pad_sequences(X_test, maxlen=max_len)"
   ]
  },
  {
   "cell_type": "code",
   "execution_count": 40,
   "id": "f52c6ec8-86b7-400d-b36c-a0c30ad578df",
   "metadata": {},
   "outputs": [],
   "source": [
    "from keras.layers import Dense, Embedding, Bidirectional, LSTM, Concatenate, Dropout, Flatten, Activation,BatchNormalization\n",
    "from tensorflow.keras import Input, Model, layers, optimizers, metrics\n",
    "from tensorflow.keras import optimizers\n",
    "from tensorflow.keras.callbacks import ModelCheckpoint, EarlyStopping\n",
    "import numpy as np\n",
    "import matplotlib.pyplot as plt\n",
    "import h5py\n",
    "\n",
    "import tensorflow as tf\n",
    "\n",
    "\n",
    "class BahdanauAttention(tf.keras.Model):\n",
    "    def __init__(self, units):\n",
    "        super(BahdanauAttention, self).__init__()\n",
    "        self.W1 = Dense(units)\n",
    "        self.W2 = Dense(units)\n",
    "        self.V = Dense(1)\n",
    "\n",
    "    def call(self, values, query): # 단, key와 value는 같음\n",
    "        # query shape == (batch_size, hidden size)\n",
    "        # hidden_with_time_axis shape == (batch_size, 1, hidden size)\n",
    "        # score 계산을 위해 뒤에서 할 덧셈을 위해서 차원을 변경해줍니다.\n",
    "        hidden_with_time_axis = tf.expand_dims(query, 1)\n",
    "\n",
    "        # score shape == (batch_size, max_length, 1)\n",
    "        # we get 1 at the last axis because we are applying score to self.V\n",
    "        # the shape of the tensor before applying self.V is (batch_size, max_length, units)\n",
    "        score = self.V(tf.nn.tanh(\n",
    "            self.W1(values) + self.W2(hidden_with_time_axis)))\n",
    "\n",
    "        # attention_weights shape == (batch_size, max_length, 1)\n",
    "        attention_weights = tf.nn.softmax(score, axis=1)\n",
    "\n",
    "        # context_vector shape after sum == (batch_size, hidden_size)\n",
    "        context_vector = attention_weights * values\n",
    "        context_vector = tf.reduce_sum(context_vector, axis=1)\n",
    "\n",
    "        return context_vector, attention_weights\n",
    "\n",
    "\n",
    "    \n",
    "# kargs = {'vocab_size' : vocab_size,\n",
    "#          'max_len': max_len,\n",
    "#          'lstm_size' : 64,\n",
    "#         'dropout_rate' : 0.5,\n",
    "#         'hidden_dimension' : 250,\n",
    "#         'output_dimension' : 1}\n",
    "sequence_input = Input(shape=(max_len,))\n",
    "embedded_sequences = Embedding(vocab_size, 128, input_length=max_len)(sequence_input)\n",
    "\n",
    "lstm = Bidirectional(LSTM(64, dropout=0.5,  return_sequences = True))(embedded_sequences)\n",
    "\n",
    "lstm, forward_h, forward_c, backward_h, backward_c = Bidirectional(LSTM(64, dropout=0.5, return_sequences=True, return_state=True))(lstm)\n",
    "\n",
    "\n",
    "\n",
    "state_h = Concatenate()([forward_h, backward_h]) # 은닉 상태\n",
    "state_c = Concatenate()([forward_c, backward_c]) # 셀 상태\n",
    "\n",
    "attention = BahdanauAttention(64) # 가중치 크기 정의\n",
    "context_vector, attention_weights = attention(lstm, state_h)\n",
    "\n",
    "# hidden = BatchNormalization()(context_vector)\n",
    "# dense1 = Dense(128, activation=\"elu\")(context_vector)\n",
    "# dropout_1 = Dropout(0.5)(dense1)\n",
    "dense2 = Dense(32, activation=\"elu\")(context_vector)\n",
    "dropout_2 = Dropout(0.5)(dense2)\n",
    "# dense3 = Dense(32, activation=\"elu\")(dropout_2)\n",
    "# dropout_3 = Dropout(0.5)(dense3)\n",
    "dense4 = Dense(16, activation=\"elu\")(dropout_2)\n",
    "dropout_4 = Dropout(0.5)(dense4)\n",
    "# dense5 = Dense(8, activation=\"elu\")(dropout_4)\n",
    "# dropout_5 = Dropout(0.5)(dense5)\n",
    "output = Dense(1, activation=\"sigmoid\")(dropout_4)\n",
    "text_model = Model(inputs=sequence_input, outputs=output)\n",
    "\n",
    "text_model.compile(loss='binary_crossentropy', optimizer='Nadam', metrics=['accuracy'])\n",
    "\n",
    "\n",
    "#최적화 과정\n",
    "modelpath = \"./best_model.h5\"\n",
    "checkpointer = ModelCheckpoint(filepath=modelpath, monitor='val_loss', verbose=2, save_best_only=True)\n",
    "early_stopping_callback = EarlyStopping(monitor='val_loss', patience=3)"
   ]
  },
  {
   "cell_type": "code",
   "execution_count": 33,
   "id": "1943aff6-ba3e-468a-b1d4-b9bc94ab8b1f",
   "metadata": {},
   "outputs": [
    {
     "name": "stdout",
     "output_type": "stream",
     "text": [
      "Model: \"model_1\"\n",
      "__________________________________________________________________________________________________\n",
      " Layer (type)                   Output Shape         Param #     Connected to                     \n",
      "==================================================================================================\n",
      " input_2 (InputLayer)           [(None, 50)]         0           []                               \n",
      "                                                                                                  \n",
      " embedding_1 (Embedding)        (None, 50, 128)      5458560     ['input_2[0][0]']                \n",
      "                                                                                                  \n",
      " bidirectional_2 (Bidirectional  (None, 50, 128)     98816       ['embedding_1[0][0]']            \n",
      " )                                                                                                \n",
      "                                                                                                  \n",
      " bidirectional_3 (Bidirectional  [(None, 50, 128),   98816       ['bidirectional_2[0][0]']        \n",
      " )                               (None, 64),                                                      \n",
      "                                 (None, 64),                                                      \n",
      "                                 (None, 64),                                                      \n",
      "                                 (None, 64)]                                                      \n",
      "                                                                                                  \n",
      " concatenate_2 (Concatenate)    (None, 128)          0           ['bidirectional_3[0][1]',        \n",
      "                                                                  'bidirectional_3[0][3]']        \n",
      "                                                                                                  \n",
      " bahdanau_attention_1 (Bahdanau  ((None, 128),       16577       ['bidirectional_3[0][0]',        \n",
      " Attention)                      (None, 50, 1))                   'concatenate_2[0][0]']          \n",
      "                                                                                                  \n",
      " dense_9 (Dense)                (None, 32)           4128        ['bahdanau_attention_1[0][0]']   \n",
      "                                                                                                  \n",
      " dropout_2 (Dropout)            (None, 32)           0           ['dense_9[0][0]']                \n",
      "                                                                                                  \n",
      " dense_10 (Dense)               (None, 16)           528         ['dropout_2[0][0]']              \n",
      "                                                                                                  \n",
      " dropout_3 (Dropout)            (None, 16)           0           ['dense_10[0][0]']               \n",
      "                                                                                                  \n",
      " dense_11 (Dense)               (None, 1)            17          ['dropout_3[0][0]']              \n",
      "                                                                                                  \n",
      "==================================================================================================\n",
      "Total params: 5,677,442\n",
      "Trainable params: 5,677,442\n",
      "Non-trainable params: 0\n",
      "__________________________________________________________________________________________________\n"
     ]
    }
   ],
   "source": [
    "text_model.summary()"
   ]
  },
  {
   "cell_type": "code",
   "execution_count": 34,
   "id": "8d475e07-f340-472f-9c9b-5f65ec901bd8",
   "metadata": {},
   "outputs": [
    {
     "name": "stdout",
     "output_type": "stream",
     "text": [
      "Epoch 1/10\n",
      "12142/12142 - 358s - loss: 0.4062 - accuracy: 0.8214 - val_loss: 0.3667 - val_accuracy: 0.8395 - 358s/epoch - 29ms/step\n",
      "Epoch 2/10\n",
      "12142/12142 - 366s - loss: 0.3449 - accuracy: 0.8554 - val_loss: 0.3503 - val_accuracy: 0.8477 - 366s/epoch - 30ms/step\n",
      "Epoch 3/10\n",
      "12142/12142 - 366s - loss: 0.3211 - accuracy: 0.8677 - val_loss: 0.3453 - val_accuracy: 0.8492 - 366s/epoch - 30ms/step\n",
      "Epoch 4/10\n",
      "12142/12142 - 362s - loss: 0.3018 - accuracy: 0.8778 - val_loss: 0.3489 - val_accuracy: 0.8488 - 362s/epoch - 30ms/step\n",
      "Epoch 5/10\n",
      "12142/12142 - 377s - loss: 0.2869 - accuracy: 0.8855 - val_loss: 0.3686 - val_accuracy: 0.8494 - 377s/epoch - 31ms/step\n",
      "Epoch 6/10\n",
      "12142/12142 - 352s - loss: 0.2712 - accuracy: 0.8926 - val_loss: 0.3685 - val_accuracy: 0.8459 - 352s/epoch - 29ms/step\n"
     ]
    }
   ],
   "source": [
    "history = text_model.fit(X_train, y_train, epochs = 10, batch_size = 32, validation_data=(X_test, y_test), verbose=2,\n",
    "                   callbacks=[early_stopping_callback])\n"
   ]
  },
  {
   "cell_type": "code",
   "execution_count": 36,
   "id": "cac09954-c066-466b-b2f8-4c9027292045",
   "metadata": {},
   "outputs": [],
   "source": [
    "text_model.save('./Model/test.hdf5')"
   ]
  },
  {
   "cell_type": "code",
   "execution_count": 88,
   "id": "b88adc32-0836-4108-8f18-62926b356377",
   "metadata": {},
   "outputs": [],
   "source": [
    "text_model.save_weights('./Model/test_weights.hdf5')"
   ]
  },
  {
   "cell_type": "code",
   "execution_count": 91,
   "id": "9c56eed9-4bdd-4c98-aadd-dd37bf780b6a",
   "metadata": {},
   "outputs": [],
   "source": [
    "test_model.load_weights('./Model/test_weights.hdf5')"
   ]
  },
  {
   "cell_type": "code",
   "execution_count": 90,
   "id": "19f0daf0-e04d-44cd-87be-b0b3e0f93156",
   "metadata": {},
   "outputs": [],
   "source": [
    "test_model = text_model"
   ]
  },
  {
   "cell_type": "code",
   "execution_count": 92,
   "id": "92debcf7-6efe-4eaa-b6c2-df3cb420ce5f",
   "metadata": {},
   "outputs": [
    {
     "name": "stdout",
     "output_type": "stream",
     "text": [
      "3023/3023 [==============================] - 22s 7ms/step - loss: 0.3685 - accuracy: 0.8459\n",
      "\n",
      " 테스트 정확도: 0.8459\n"
     ]
    }
   ],
   "source": [
    "print(\"\\n 테스트 정확도: %.4f\" % (test_model.evaluate(X_test, y_test)[1]))"
   ]
  },
  {
   "cell_type": "code",
   "execution_count": 94,
   "id": "bce7a9d4-8aa9-4f33-8d29-b2d3a39d7073",
   "metadata": {},
   "outputs": [],
   "source": [
    "def sentiment_predict(new_sentence):\n",
    "    new_sentence = re.sub(r'[^ㄱ-ㅎㅏ-ㅣ가-힣 ]','', new_sentence)\n",
    "    new_sentence = mecab.morphs(new_sentence) # 토큰화\n",
    "    new_sentence = [word for word in new_sentence if not word in stopwords] # 불용어 제거\n",
    "    encoded = tokenizer.texts_to_sequences([new_sentence]) # 정수 인코딩\n",
    "    pad_new = pad_sequences(encoded, maxlen = max_len) # 패딩\n",
    "    score = float(test_model.predict(pad_new)) # 예측\n",
    "    if(score > 0.5):\n",
    "        print(\"{:.2f}% 확률로 긍정 리뷰입니다.\".format(score * 100))\n",
    "    else:\n",
    "        print(\"{:.2f}% 확률로 부정 리뷰입니다.\".format((1 - score) * 100))"
   ]
  },
  {
   "cell_type": "code",
   "execution_count": 95,
   "id": "de067492-44ac-421d-a613-02b31aac0ab8",
   "metadata": {},
   "outputs": [
    {
     "name": "stdout",
     "output_type": "stream",
     "text": [
      "1/1 [==============================] - 1s 1s/step\n",
      "96.63% 확률로 부정 리뷰입니다.\n"
     ]
    }
   ],
   "source": [
    "sentiment_predict('노잼 ..완전 재미 없음 ㅉㅉ')\n"
   ]
  },
  {
   "cell_type": "code",
   "execution_count": 102,
   "id": "b7d98134-e060-4330-aa1a-6da99d05add3",
   "metadata": {},
   "outputs": [
    {
     "name": "stdout",
     "output_type": "stream",
     "text": [
      "1/1 [==============================] - 0s 47ms/step\n",
      "56.29% 확률로 부정 리뷰입니다.\n"
     ]
    }
   ],
   "source": [
    "sentiment_predict('맛이좀 그렇네요')\n"
   ]
  },
  {
   "cell_type": "code",
   "execution_count": null,
   "id": "d83da309-ace6-40cf-9f71-84226632602d",
   "metadata": {},
   "outputs": [],
   "source": []
  }
 ],
 "metadata": {
  "kernelspec": {
   "display_name": "Python 3 (ipykernel)",
   "language": "python",
   "name": "python3"
  },
  "language_info": {
   "codemirror_mode": {
    "name": "ipython",
    "version": 3
   },
   "file_extension": ".py",
   "mimetype": "text/x-python",
   "name": "python",
   "nbconvert_exporter": "python",
   "pygments_lexer": "ipython3",
   "version": "3.7.5"
  }
 },
 "nbformat": 4,
 "nbformat_minor": 5
}
