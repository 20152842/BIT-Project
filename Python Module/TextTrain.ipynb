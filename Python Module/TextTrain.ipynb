{
 "cells": [
  {
   "cell_type": "code",
   "execution_count": 1,
   "id": "286f4e98-2c1e-4cbe-b753-9bdd49872914",
   "metadata": {},
   "outputs": [
    {
     "name": "stdout",
     "output_type": "stream",
     "text": [
      "[name: \"/device:CPU:0\"\n",
      "device_type: \"CPU\"\n",
      "memory_limit: 268435456\n",
      "locality {\n",
      "}\n",
      "incarnation: 1043036368663190315\n",
      "xla_global_id: -1\n",
      ", name: \"/device:GPU:0\"\n",
      "device_type: \"GPU\"\n",
      "memory_limit: 1746980046\n",
      "locality {\n",
      "  bus_id: 1\n",
      "  links {\n",
      "  }\n",
      "}\n",
      "incarnation: 14693167194253847882\n",
      "physical_device_desc: \"device: 0, name: NVIDIA GeForce RTX 3050 Laptop GPU, pci bus id: 0000:01:00.0, compute capability: 8.6\"\n",
      "xla_global_id: 416903419\n",
      "]\n"
     ]
    }
   ],
   "source": [
    "import tensorflow\n",
    "\n",
    "from tensorflow.python.client import device_lib\n",
    "\n",
    "print(device_lib.list_local_devices())\n",
    "\n"
   ]
  },
  {
   "cell_type": "code",
   "execution_count": 2,
   "id": "04ac6477-f298-424b-858e-6340c4a5eaf6",
   "metadata": {},
   "outputs": [
    {
     "name": "stdout",
     "output_type": "stream",
     "text": [
      "tf.Tensor(\n",
      "[[22. 28.]\n",
      " [49. 64.]], shape=(2, 2), dtype=float32)\n"
     ]
    }
   ],
   "source": [
    "import os\n",
    "import tensorflow\n",
    "\n",
    "# '0번' GPU 사용\n",
    "os.environ[\"CUDA_VISIBLE_DEVICES\"]=\"0\"\n",
    "gpus = tensorflow.config.experimental.list_physical_devices('GPU')\n",
    "tensorflow.config.experimental.set_visible_devices(gpus[0], 'GPU')\n",
    "\n",
    "if gpus:\n",
    "    try:\n",
    "        tensorflow.config.experimental.set_memory_growth(gpus[0], True)\n",
    "    except RuntimeError as e:\n",
    "        print(e)\n",
    "\n",
    "os.environ['TF_CPP_MIN_LOG_LEVEL'] = '3' \n",
    "#os.environ[\"CUDA_VISIBLE_DEVICES\"] = \"-1\" => cpu 사용 강제\n",
    "# tensorflow.debugging.set_log_device_placement(True)\n",
    "\n",
    "a = tensorflow.constant([[1.0, 2.0, 3.0], [4.0, 5.0, 6.0]])\n",
    "b = tensorflow.constant([[1.0, 2.0], [3.0, 4.0], [5.0, 6.0]])\n",
    "c = tensorflow.matmul(a, b)\n",
    "print(c)"
   ]
  },
  {
   "cell_type": "code",
   "execution_count": 4,
   "id": "78aa664a-b483-47c6-b9d7-9c0670bd08c8",
   "metadata": {},
   "outputs": [],
   "source": [
    "from konlpy.tag import Mecab\n",
    "mecab = Mecab(dicpath='C:/mecab/mecab-ko-dic')\n",
    "# # out = mecab.parse(\"오늘은 맑은 날씨이다.\")\n",
    "# print(out)\n",
    "import pandas as pd\n",
    "import numpy as np\n",
    "import matplotlib.pyplot as plt\n",
    "import urllib.request\n",
    "from collections import Counter\n",
    "from sklearn.model_selection import train_test_split\n",
    "from tensorflow.keras.preprocessing.text import Tokenizer\n",
    "from tensorflow.keras.preprocessing.sequence import pad_sequences"
   ]
  },
  {
   "cell_type": "code",
   "execution_count": null,
   "id": "7678af1c-521f-4e59-82bf-c4558ebb7f38",
   "metadata": {},
   "outputs": [],
   "source": [
    "#임의로 열제목 추가\n",
    "total_data = pd.read_table('steam.txt', names=['label', 'reviews'])\n",
    "print('전체 리뷰 개수 :',len(total_data)) # 전체 리뷰 개수 출력\n",
    "total_data[:5]"
   ]
  },
  {
   "cell_type": "code",
   "execution_count": null,
   "id": "4882e6e7-870e-4ba0-9891-cbc95af39c7c",
   "metadata": {},
   "outputs": [],
   "source": [
    "# 각 열에 대해서 중복을 제외한 샘플의 수를 카운트합니다.\n",
    "total_data['reviews'].nunique(), total_data['label'].nunique()"
   ]
  },
  {
   "cell_type": "code",
   "execution_count": null,
   "id": "fa981c21-112a-418f-83ee-5ea005448798",
   "metadata": {},
   "outputs": [],
   "source": [
    "total_data.drop_duplicates(subset=['reviews'], inplace=True) # reviews 열에서 중복인 내용이 있다면 중복 제거\n",
    "print('총 샘플의 수 :',len(total_data))\n",
    "# null 값 유무\n",
    "print(total_data.isnull().values.any())\n"
   ]
  },
  {
   "cell_type": "code",
   "execution_count": null,
   "id": "f1db26bd-a816-4149-af30-88dfcec61dee",
   "metadata": {},
   "outputs": [],
   "source": [
    "train_data, test_data = train_test_split(total_data, test_size = 0.25, random_state = 42)\n",
    "print('훈련용 리뷰의 개수 :', len(train_data))\n",
    "print('테스트용 리뷰의 개수 :', len(test_data))\n",
    "train_data['label'].value_counts().plot(kind = 'bar')\n",
    "print(train_data.groupby('label').size().reset_index(name = 'count'))"
   ]
  },
  {
   "cell_type": "code",
   "execution_count": null,
   "id": "b220986e-2c9a-484c-aea9-92b379d107fa",
   "metadata": {},
   "outputs": [],
   "source": [
    "# 한글과 공백을 제외하고 모두 제거\n",
    "train_data['reviews'] = train_data['reviews'].str.replace(\"[^ㄱ-ㅎㅏ-ㅣ가-힣 ]\",\"\")\n",
    "train_data['reviews'].replace('', np.nan, inplace=True)\n",
    "# null 값 체크\n",
    "print(train_data.isnull().sum())"
   ]
  },
  {
   "cell_type": "code",
   "execution_count": null,
   "id": "fcacf3b6-9b33-4355-8864-82157bcfb2d3",
   "metadata": {},
   "outputs": [],
   "source": [
    "test_data.drop_duplicates(subset = ['reviews'], inplace=True) # 중복 제거\n",
    "test_data['reviews'] = test_data['reviews'].str.replace(\"[^ㄱ-ㅎㅏ-ㅣ가-힣 ]\",\"\") # 정규 표현식 수행\n",
    "test_data['reviews'].replace('', np.nan, inplace=True) # 공백은 Null 값으로 변경\n",
    "test_data = test_data.dropna(how='any') # Null 값 제거\n",
    "print('전처리 후 테스트용 샘플의 개수 :',len(test_data))"
   ]
  },
  {
   "cell_type": "code",
   "execution_count": null,
   "id": "c64aaf53-4f85-476e-b8bd-3ff1e07cd853",
   "metadata": {},
   "outputs": [],
   "source": [
    "#불용어 정의\n",
    "stopwords = ['도', '는', '다', '의', '가', '이', '은', '한', '에', '하', '고', '을', '를', '인', '듯', '과', '와', '네', '들', '듯', '지', '임', '게', '만', '게임', '겜', '되', '음', '면']\n",
    "# 토큰화 \n",
    "mecab = Mecab(dicpath='C:/mecab/mecab-ko-dic')\n",
    "\n",
    "train_data['tokenized'] = train_data['reviews'].apply(mecab.morphs)\n",
    "train_data['tokenized'] = train_data['tokenized'].apply(lambda x: [item for item in x if item not in stopwords])\n",
    "test_data['tokenized'] = test_data['reviews'].apply(mecab.morphs)\n",
    "test_data['tokenized'] = test_data['tokenized'].apply(lambda x: [item for item in x if item not in stopwords])"
   ]
  },
  {
   "cell_type": "code",
   "execution_count": null,
   "id": "d48ceddd-f641-4d50-adbc-8ce11a40d807",
   "metadata": {},
   "outputs": [],
   "source": [
    "negative_words = np.hstack(train_data[train_data.label == 0]['tokenized'].values)\n",
    "positive_words = np.hstack(train_data[train_data.label == 1]['tokenized'].values)\n",
    "\n",
    "negative_word_count = Counter(negative_words)\n",
    "print(negative_word_count.most_common(20))\n",
    "\n",
    "positive_word_count = Counter(positive_words)\n",
    "print(positive_word_count.most_common(20))"
   ]
  },
  {
   "cell_type": "code",
   "execution_count": null,
   "id": "d1527930-0b3b-42aa-a2d0-4a950fb632b0",
   "metadata": {},
   "outputs": [],
   "source": [
    "fig,(ax1,ax2) = plt.subplots(1,2,figsize=(10,5))\n",
    "text_len = train_data[train_data['label']==1]['tokenized'].map(lambda x: len(x))\n",
    "ax1.hist(text_len, color='red')\n",
    "ax1.set_title('Positive Reviews')\n",
    "ax1.set_xlabel('length of samples')\n",
    "ax1.set_ylabel('number of samples')\n",
    "print('긍정 리뷰의 평균 길이 :', np.mean(text_len))\n",
    "\n",
    "text_len = train_data[train_data['label']==0]['tokenized'].map(lambda x: len(x))\n",
    "ax2.hist(text_len, color='blue')\n",
    "ax2.set_title('Negative Reviews')\n",
    "fig.suptitle('Words in texts')\n",
    "ax2.set_xlabel('length of samples')\n",
    "ax2.set_ylabel('number of samples')\n",
    "print('부정 리뷰의 평균 길이 :', np.mean(text_len))\n",
    "plt.show()"
   ]
  },
  {
   "cell_type": "code",
   "execution_count": null,
   "id": "b87e4e35-b537-4dfb-be3c-dd2eeb07da38",
   "metadata": {},
   "outputs": [],
   "source": [
    "X_train = train_data['tokenized'].values\n",
    "y_train = train_data['label'].values\n",
    "X_test= test_data['tokenized'].values\n",
    "y_test = test_data['label'].values"
   ]
  },
  {
   "cell_type": "code",
   "execution_count": null,
   "id": "ded83116-27f3-4855-b8a0-5ed4b93f9701",
   "metadata": {},
   "outputs": [],
   "source": [
    "tokenizer = Tokenizer()\n",
    "tokenizer.fit_on_texts(X_train)"
   ]
  },
  {
   "cell_type": "code",
   "execution_count": null,
   "id": "490e9c55-84c3-4fd8-8f12-1179d62eae5e",
   "metadata": {},
   "outputs": [],
   "source": [
    "threshold = 2\n",
    "total_cnt = len(tokenizer.word_index) # 단어의 수\n",
    "rare_cnt = 0 # 등장 빈도수가 threshold보다 작은 단어의 개수를 카운트\n",
    "total_freq = 0 # 훈련 데이터의 전체 단어 빈도수 총 합\n",
    "rare_freq = 0 # 등장 빈도수가 threshold보다 작은 단어의 등장 빈도수의 총 합\n",
    "\n",
    "# 단어와 빈도수의 쌍(pair)을 key와 value로 받는다.\n",
    "for key, value in tokenizer.word_counts.items():\n",
    "    total_freq = total_freq + value\n",
    "\n",
    "    # 단어의 등장 빈도수가 threshold보다 작으면\n",
    "    if(value < threshold):\n",
    "        rare_cnt = rare_cnt + 1\n",
    "        rare_freq = rare_freq + value\n",
    "\n",
    "print('단어 집합(vocabulary)의 크기 :',total_cnt)\n",
    "print('등장 빈도가 %s번 이하인 희귀 단어의 수: %s'%(threshold - 1, rare_cnt))\n",
    "print(\"단어 집합에서 희귀 단어의 비율:\", (rare_cnt / total_cnt)*100)\n",
    "print(\"전체 등장 빈도에서 희귀 단어 등장 빈도 비율:\", (rare_freq / total_freq)*100)"
   ]
  },
  {
   "cell_type": "code",
   "execution_count": null,
   "id": "9fd0c6db-814f-4018-bc2c-fe7039abf3a0",
   "metadata": {},
   "outputs": [],
   "source": [
    "# 전체 단어 개수 중 빈도수 2이하인 단어 개수는 제거.\n",
    "# 0번 패딩 토큰과 1번 OOV 토큰을 고려하여 +2\n",
    "vocab_size = total_cnt - rare_cnt + 2\n",
    "print('단어 집합의 크기 :',vocab_size)"
   ]
  },
  {
   "cell_type": "code",
   "execution_count": null,
   "id": "f896976a-d94d-4985-a9d6-d52a71730ad1",
   "metadata": {},
   "outputs": [],
   "source": [
    "# word_to_index에는 빈도수가 높은 상위 5개의 단어만 저장되었습니다. word_to_index를 사용하여 단어 토큰화가\n",
    "# 된 상태로 저장된 sentences에 있는 각 단어를 정수로 바꾸는 작업을 하겠습니다.\n",
    "\n",
    "# 예를 들어 sentences에서 첫번째 문장은 ['barber', 'person']이었는데, 이 문장에 대해서는 [1, 5]로 인코딩합니다. \n",
    "# 그런데 두번째 문장인 ['barber', 'good', 'person']에는 더 이상 word_to_index에는 존재하지 않는 단어인 'good'이라는 단어가 있습니다.\n",
    "\n",
    "# 이처럼 단어 집합에 존재하지 않는 단어들이 생기는 상황을 Out-Of-Vocabulary(단어 집합에 없는 단어) 문제라고 합니다.\n",
    "# 약자로 'OOV 문제'라고도 합니다. word_to_index에 'OOV'란 단어를 새롭게 추가하고, 단어 집합에 없는 단어들은 'OOV'의 인덱스로 인코딩하겠습니다."
   ]
  },
  {
   "attachments": {
    "58e53849-cb53-47f4-8923-dcfbac0b93ee.png": {
     "image/png": "[encoded data removed]"
    }
   },
   "cell_type": "markdown",
   "id": "37972fd3-5af3-4f37-85cc-8d89e011c6fd",
   "metadata": {},
   "source": [
    "![image.png](attachment:58e53849-cb53-47f4-8923-dcfbac0b93ee.png)"
   ]
  },
  {
   "cell_type": "code",
   "execution_count": null,
   "id": "0f268ac8-ce62-4557-a25b-7ef987bf17df",
   "metadata": {},
   "outputs": [],
   "source": [
    "#단어 집합의 크기는 18,941개입니다. 이를 토크나이저의 인자로 넘겨주면, \n",
    "#토크나이저는 텍스트 시퀀스를 숫자 시퀀스로 변환합니다. 이러한 정수 인코딩 과정에서 이보다 큰 숫자가 부여된 단어들은 OOV로 변환하겠습니다.\n",
    "tokenizer = Tokenizer(vocab_size, oov_token = 'OOV') \n",
    "# fit_on_texts는 입력한 텍스트로부터 단어 빈도수가 높은 순으로 낮은 정수 인덱스를 부여하는데, \n",
    "# 정확히 앞서 설명한 정수 인코딩 작업이 이루어진다고 보면됩니다. 각 단어에 인덱스가 어떻게 부여되었는지를 보려면, word_index를 사용합니다.\n",
    "tokenizer.fit_on_texts(X_train)\n",
    "# texts_to_sequences()는 입력으로 들어온 코퍼스에 대해서 각 단어를 이미 정해진 인덱스로 변환합니다.\n",
    "X_train = tokenizer.texts_to_sequences(X_train)\n",
    "X_test = tokenizer.texts_to_sequences(X_test)"
   ]
  },
  {
   "cell_type": "code",
   "execution_count": null,
   "id": "2e3ea143-92fb-459d-a007-1d736aaf6d5a",
   "metadata": {},
   "outputs": [],
   "source": [
    "print('리뷰의 최대 길이 :',max(len(review) for review in X_train))\n",
    "print('리뷰의 평균 길이 :',sum(map(len, X_train))/len(X_train))\n",
    "plt.hist([len(review) for review in X_train], bins=50)\n",
    "plt.xlabel('length of samples')\n",
    "plt.ylabel('number of samples')\n",
    "plt.show()"
   ]
  },
  {
   "cell_type": "code",
   "execution_count": null,
   "id": "27668410-e498-4321-908d-2db0610344ea",
   "metadata": {},
   "outputs": [],
   "source": [
    "def below_threshold_len(max_len, nested_list):\n",
    "  count = 0\n",
    "  for sentence in nested_list:\n",
    "    if(len(sentence) <= max_len):\n",
    "        count = count + 1\n",
    "  print('전체 샘플 중 길이가 %s 이하인 샘플의 비율: %s'%(max_len, (count / len(nested_list))*100))"
   ]
  },
  {
   "cell_type": "code",
   "execution_count": null,
   "id": "53861961-5d54-472e-a2b3-a6972fbcb486",
   "metadata": {},
   "outputs": [],
   "source": [
    "max_len = 60\n",
    "below_threshold_len(max_len, X_train)"
   ]
  },
  {
   "cell_type": "code",
   "execution_count": null,
   "id": "e54a96ea-e021-4b97-8d3d-45f95ed97ec4",
   "metadata": {},
   "outputs": [],
   "source": [
    "#패딩\n",
    "X_train = pad_sequences(X_train, maxlen=max_len)\n",
    "X_test = pad_sequences(X_test, maxlen=max_len)"
   ]
  },
  {
   "cell_type": "code",
   "execution_count": null,
   "id": "06ea84b5-564f-4418-9b56-71a6c5f4bceb",
   "metadata": {},
   "outputs": [],
   "source": [
    "import re\n",
    "from tensorflow.keras.layers import Embedding, Dense, LSTM, Bidirectional\n",
    "from tensorflow.keras.models import Sequential\n",
    "from tensorflow.keras.models import load_model\n",
    "from tensorflow.keras.callbacks import EarlyStopping, ModelCheckpoint\n",
    "\n",
    "embedding_dim = 100\n",
    "hidden_units = 128\n",
    "\n",
    "model = Sequential()\n",
    "model.add(Embedding(vocab_size, embedding_dim))\n",
    "model.add(Bidirectional(LSTM(hidden_units))) # Bidirectional LSTM을 사용\n",
    "model.add(Dense(1, activation='sigmoid'))\n",
    "\n",
    "es = EarlyStopping(monitor='val_loss', mode='min', verbose=1, patience=4)\n",
    "mc = ModelCheckpoint('best_model.h5', monitor='val_acc', mode='max', verbose=1, save_best_only=True)\n",
    "\n",
    "model.compile(optimizer='rmsprop', loss='binary_crossentropy', metrics=['acc'])\n",
    "history = model.fit(X_train, y_train, epochs=15, callbacks=[es, mc], batch_size=256, validation_split=0.2)\n",
    "\n",
    "loaded_model = load_model('best_model.h5')\n",
    "print(\"테스트 정확도: %.4f\" % (loaded_model.evaluate(X_test, y_test)[1]))"
   ]
  },
  {
   "cell_type": "code",
   "execution_count": null,
   "id": "8bfbb307-1f01-405b-a5bb-93118b9db5ad",
   "metadata": {},
   "outputs": [],
   "source": [
    "print(vocab_size)\n",
    "\n",
    "y_train[0:100]"
   ]
  },
  {
   "cell_type": "code",
   "execution_count": null,
   "id": "b0702d06-52bb-435d-952a-c69e4ae791a6",
   "metadata": {},
   "outputs": [],
   "source": [
    "def sentiment_predict(new_sentence):\n",
    "    new_sentence = re.sub(r'[^ㄱ-ㅎㅏ-ㅣ가-힣 ]','', new_sentence)\n",
    "    new_sentence = mecab.morphs(new_sentence) # 토큰화\n",
    "    new_sentence = [word for word in new_sentence if not word in stopwords] # 불용어 제거\n",
    "    encoded = tokenizer.texts_to_sequences([new_sentence]) # 정수 인코딩\n",
    "    pad_new = pad_sequences(encoded, maxlen = max_len) # 패딩\n",
    "    score = float(loaded_model.predict(pad_new)) # 예측\n",
    "    if(score > 0.5):\n",
    "    print(\"{:.2f}% 확률로 긍정 리뷰입니다.\".format(score * 100))\n",
    "    else:\n",
    "    print(\"{:.2f}% 확률로 부정 리뷰입니다.\".format((1 - score) * 100))"
   ]
  },
  {
   "cell_type": "code",
   "execution_count": null,
   "id": "755348e7-79fc-4641-b26a-005b1adc44ef",
   "metadata": {},
   "outputs": [],
   "source": [
    "sentiment_predict('노잼 ..완전 재미 없음 ㅉㅉ')\n",
    "sentiment_predict('조금 어렵지만 재밌음ㅋㅋ')\n",
    "sentiment_predict('케릭터가 예뻐서 좋아요')\n"
   ]
  },
  {
   "cell_type": "code",
   "execution_count": null,
   "id": "1d00263b-eee8-4455-9c3c-b799705e12e4",
   "metadata": {},
   "outputs": [],
   "source": [
    "# 1) morphs : 형태소 추출\n",
    "# 2) pos : 품사 태깅(Part-of-speech tagging)\n",
    "# 3) nouns : 명사 추출"
   ]
  },
  {
   "cell_type": "code",
   "execution_count": null,
   "id": "808f1bb1-713a-4852-901b-a5cbaa46f7a5",
   "metadata": {},
   "outputs": [],
   "source": [
    "sentiment_predict('아 이거 하다가 시간 가는줄 몰랐음 ㅋㅋ')\n",
    "sentiment_predict('ㄹㅇ 꿀잼 ㅋㅋ')"
   ]
  },
  {
   "cell_type": "code",
   "execution_count": null,
   "id": "bf14c85d-e46e-4759-80ab-a7dcd063daf9",
   "metadata": {},
   "outputs": [],
   "source": [
    "sentiment_predict('영양만점 세진총각! 인기만점 세진총각! 너무너무 좋아용~!')"
   ]
  },
  {
   "cell_type": "code",
   "execution_count": null,
   "id": "b270daca-b800-4e10-bf01-d29303241b0f",
   "metadata": {},
   "outputs": [],
   "source": [
    "sentiment_predict('페이데이 ㄹㅇ 갓겜 ㄷㄷ')"
   ]
  },
  {
   "cell_type": "code",
   "execution_count": null,
   "id": "1cf7ba35-eb49-448b-8808-273e71cb2e02",
   "metadata": {},
   "outputs": [],
   "source": [
    "sentiment_predict('존나 재밋누 ㅎ')"
   ]
  },
  {
   "cell_type": "code",
   "execution_count": null,
   "id": "8b26d32a-5f38-4d83-b83b-250d8c4e3f66",
   "metadata": {},
   "outputs": [],
   "source": [
    "sentiment_predict('게임 ㅆㅅㅌㅊ')"
   ]
  },
  {
   "cell_type": "code",
   "execution_count": null,
   "id": "3c31aef1-80de-478b-bb63-c3e18d7a62c2",
   "metadata": {},
   "outputs": [],
   "source": [
    "sentiment_predict('게임 ㅆㅎㅌㅊ')"
   ]
  },
  {
   "cell_type": "code",
   "execution_count": null,
   "id": "a6eddf8d-aad6-43eb-9f50-348559f92643",
   "metadata": {},
   "outputs": [],
   "source": [
    "sentiment_predict('단무지가 노란게 맛있노')"
   ]
  },
  {
   "cell_type": "code",
   "execution_count": 4,
   "id": "026dcc73-7806-4b18-ad9d-f34c50b7c969",
   "metadata": {},
   "outputs": [],
   "source": [
    "# 필요한 라이브러리를 임포트하기\n",
    "\n",
    "import sys # 시스템\n",
    "import os  # 시스템\n",
    "\n",
    "# 데이터 다루기\n",
    "import pandas as pd\n",
    "import numpy as np\n",
    "\n",
    "# selenium 크롤링\n",
    "from selenium import webdriver  \n",
    "from selenium.webdriver import ActionChains as AC\n",
    "from selenium.webdriver.support.ui import WebDriverWait\n",
    "from selenium.webdriver.support import expected_conditions as EC\n",
    "from selenium.webdriver.common.by import By\n",
    "\n",
    "# 크롬 드라이버\n",
    "import chromedriver_autoinstaller\n",
    "\n",
    "# beautifulsoup 크롤링\n",
    "import requests\n",
    "from bs4 import BeautifulSoup\n",
    "\n",
    "# lxml 크롤링\n",
    "import lxml.html\n",
    "\n",
    "# 시간 조절\n",
    "import time\n",
    "\n",
    "# 시간 측정\n",
    "from tqdm import notebook\n",
    "\n",
    "# 정규표현식\n",
    "import re\n",
    "\n",
    "# 경고 무시\n",
    "import warnings\n",
    "warnings.filterwarnings('ignore')\n",
    "\n",
    "\n",
    "from selenium.webdriver.common.keys import Keys\n",
    "\n",
    "keyword = ['삼겹살', '떡볶이', '곱창', '국밥']\n",
    "\n",
    "# 크롬창 띄우기\n",
    "chrome_path = chromedriver_autoinstaller.install()\n",
    "driver = webdriver.Chrome(chrome_path)\n",
    "driver.maximize_window() # 창 최대화\n",
    "\n",
    "# 키워드가 입력된 망고플레이트 사이트에 들어가기\n",
    "driver.get(\"https://www.mangoplate.com/search/{0}?keyword={0}\".format(keyword)) \n",
    "time.sleep(2)\n",
    "\n",
    "# 광고창 iframe 접근하기\n",
    "driver.switch_to.frame(\"google_ads_iframe_/395211568/init/desktop_all_0\")\n",
    "\n",
    "# '다시 보지 않기' 버튼 클릭하기\n",
    "element = '#ad > div > button.ad_btn.ad_block_btn'\n",
    "driver.find_element_by_css_selector(element).click()\n",
    "time.sleep(2)\n",
    "\n",
    "\n",
    "page = 50\n",
    "\n",
    "\n"
   ]
  },
  {
   "cell_type": "code",
   "execution_count": null,
   "id": "ad3fae1f-5ad0-48c5-bcab-4ac944a22567",
   "metadata": {},
   "outputs": [],
   "source": [
    "\n",
    "\n",
    "for key in keyword:\n",
    "    print(key)\n",
    "    review_list[key] = []\n",
    "    for i in range(1, page):\n",
    "        driver.get(\"https://www.mangoplate.com/search/{0}?keyword={0}&page={1}\".format(key, i)) \n",
    "        time.sleep(1)\n",
    "        \n",
    "        for i in range(1, 4):\n",
    "            for j in range(1,3):\n",
    "                review_tmp = []\n",
    "\n",
    "                xpath = \"/html/body/main/article/div[2]/div/div/section/div[3]/ul/li[{0}]/div[{1}]/figure/figcaption/div/a\".format(i, j)\n",
    "                print(xpath)\n",
    "                driver.find_element(By.XPATH,xpath).send_keys(Keys.ENTER)\n",
    "                time.sleep(1)\n",
    "                \n",
    "                for k in range(1, 6):\n",
    "                    xpath = \"\"\"/html/body/main/article/div[1]/div[1]/div/section[3]/ul/li[{0}]/a/div[2]/div/p\"\"\".format(k)\n",
    "                    try:\n",
    "                        review = driver.find_element(By.XPATH,xpath)\n",
    "                        text_tmp = ''\n",
    "                        for text in review.text.split('\\n'):\n",
    "                            if text not in ['', ',', '.']:\n",
    "                                text_tmp += text\n",
    "                        review_list[key].append(text_tmp)\n",
    "                    except:\n",
    "                        print(\"break\")\n",
    "                        break\n",
    "                    # time.sleep(1)\n",
    "                # 뒤로 가기\n",
    "                driver.back()\n",
    "                time.sleep(1)\n",
    "\n",
    "                \n",
    "                "
   ]
  },
  {
   "cell_type": "code",
   "execution_count": 206,
   "id": "3aa492e5-c210-455b-bc0c-7411a30e6c60",
   "metadata": {},
   "outputs": [
    {
     "ename": "KeyError",
     "evalue": "0",
     "output_type": "error",
     "traceback": [
      "\u001b[1;31m---------------------------------------------------------------------------\u001b[0m",
      "\u001b[1;31mKeyError\u001b[0m                                  Traceback (most recent call last)",
      "\u001b[1;32m~\\AppData\\Local\\Temp\\ipykernel_18400\\758522346.py\u001b[0m in \u001b[0;36m<module>\u001b[1;34m\u001b[0m\n\u001b[0;32m     12\u001b[0m \u001b[0mtext_list\u001b[0m \u001b[1;33m=\u001b[0m \u001b[1;33m[\u001b[0m\u001b[1;33m]\u001b[0m\u001b[1;33m\u001b[0m\u001b[1;33m\u001b[0m\u001b[0m\n\u001b[0;32m     13\u001b[0m \u001b[1;32mfor\u001b[0m \u001b[0mi\u001b[0m \u001b[1;32min\u001b[0m \u001b[0mrange\u001b[0m\u001b[1;33m(\u001b[0m\u001b[1;36m0\u001b[0m\u001b[1;33m,\u001b[0m \u001b[1;36m4\u001b[0m\u001b[1;33m)\u001b[0m\u001b[1;33m:\u001b[0m\u001b[1;33m\u001b[0m\u001b[1;33m\u001b[0m\u001b[0m\n\u001b[1;32m---> 14\u001b[1;33m     text_list.append(pd.DataFrame({'reviews' : categorical_data[i],\n\u001b[0m\u001b[0;32m     15\u001b[0m                                   'label' : i}))\n\u001b[0;32m     16\u001b[0m \u001b[1;33m\u001b[0m\u001b[0m\n",
      "\u001b[1;31mKeyError\u001b[0m: 0"
     ]
    }
   ],
   "source": [
    "\n",
    "for review in review_list:\n",
    "    print(review_list[review][:1])\n",
    "    pd.DataFrame(review_list[review])\n",
    "\n",
    "categorical_data = {}\n",
    "# [0 : '삼겹살', 1 : '떡볶이', 2: '곱창', 3: '국밥']\n",
    "cnt = 0\n",
    "for review in review_list:\n",
    "    categorical_data[cnt] = review_list[review]\n",
    "    cnt += 1\n",
    "\n",
    "text_list = []\n",
    "for i in range(0, 4):\n",
    "    text_list.append(pd.DataFrame({'reviews' : categorical_data[i],\n",
    "                                  'label' : i}))\n",
    "\n",
    "\n",
    "total_data = pd.concat([text_list[0], text_list[1], text_list[2], text_list[3]])"
   ]
  },
  {
   "cell_type": "code",
   "execution_count": 2,
   "id": "604c751d-d166-4701-ab32-dbaf8b01cbba",
   "metadata": {},
   "outputs": [],
   "source": [
    "import pandas as pd\n",
    "import numpy as np\n",
    "import matplotlib.pyplot as plt\n",
    "import urllib.request\n",
    "from collections import Counter\n",
    "from sklearn.model_selection import train_test_split\n",
    "from tensorflow.keras.preprocessing.text import Tokenizer\n",
    "from tensorflow.keras.preprocessing.sequence import pad_sequences\n",
    "from konlpy.tag import Mecab\n",
    "\n",
    "import numpy as np\n",
    "import pandas as pd\n",
    "\n",
    "mecab = Mecab(dicpath='C:/mecab/mecab-ko-dic')\n",
    "\n",
    "total_data = pd.read_csv('total_data.csv')\n",
    "\n",
    "review_list = {}\n",
    "\n",
    "import re\n",
    "#뛰어쓰기 수정\n",
    "from pykospacing import Spacing\n",
    "spacing = Spacing()\n",
    "#맞춤법 수정\n",
    "from hanspell import spell_checker\n",
    "\n",
    "import sys\n",
    "import soynlp\n",
    "from soynlp.normalizer import *\n",
    "\n",
    "def text_process(text):\n",
    "    m = re.search('ㅋ+|ㅠ+|ㅜ+', text)\n",
    "    if m:\n",
    "        tmp = spacing(text)\n",
    "        tmp = spell_checker.check(tmp)[2]\n",
    "        tmp = emoticon_normalize(tmp)\n",
    "        tmp = re.sub('ㅋ+|ㅠ+|ㅜ+', '', tmp)\n",
    "        tmp = repeat_normalize(tmp, num_repeats=1)\n",
    "        return tmp\n",
    "\n",
    "    else :\n",
    "        tmp = text\n",
    "    tmp = spacing(tmp)\n",
    "    tmp = spell_checker.check(tmp)[2] \n",
    "            \n",
    "    return tmp"
   ]
  },
  {
   "cell_type": "code",
   "execution_count": 3,
   "id": "a0977994-f956-40ed-b1e4-535bae8e220b",
   "metadata": {},
   "outputs": [
    {
     "data": {
      "text/html": [
       "<div>\n",
       "<style scoped>\n",
       "    .dataframe tbody tr th:only-of-type {\n",
       "        vertical-align: middle;\n",
       "    }\n",
       "\n",
       "    .dataframe tbody tr th {\n",
       "        vertical-align: top;\n",
       "    }\n",
       "\n",
       "    .dataframe thead th {\n",
       "        text-align: right;\n",
       "    }\n",
       "</style>\n",
       "<table border=\"1\" class=\"dataframe\">\n",
       "  <thead>\n",
       "    <tr style=\"text-align: right;\">\n",
       "      <th></th>\n",
       "      <th>reviews</th>\n",
       "      <th>label</th>\n",
       "    </tr>\n",
       "  </thead>\n",
       "  <tbody>\n",
       "    <tr>\n",
       "      <th>0</th>\n",
       "      <td>1. 개인적으로 연예인들이 추천하는 맛집을 크게 신뢰하진 않는 편이었다. 하지만 최...</td>\n",
       "      <td>0</td>\n",
       "    </tr>\n",
       "    <tr>\n",
       "      <th>1</th>\n",
       "      <td>길목은 맛있다. 웨이팅은 너무하지만 맛있는 고기임은 확실함. 고기가 아주 싱싱해서 ...</td>\n",
       "      <td>0</td>\n",
       "    </tr>\n",
       "    <tr>\n",
       "      <th>2</th>\n",
       "      <td>맛있다는 얘기를 많이 듣기는 했었지만 사실 속으로 유명해서 유명해진 돼지고기집일 수...</td>\n",
       "      <td>0</td>\n",
       "    </tr>\n",
       "    <tr>\n",
       "      <th>3</th>\n",
       "      <td>그 유명하다는 길목! 몇 년 전부터 정말 가보고 싶었는데 드디어 소원 이뤘지만 너무...</td>\n",
       "      <td>0</td>\n",
       "    </tr>\n",
       "    <tr>\n",
       "      <th>4</th>\n",
       "      <td>명불허전 길목의 목살.암퇘지 전문점 길목이다. 서울 3대 목살이라 하는데 인정할 수...</td>\n",
       "      <td>0</td>\n",
       "    </tr>\n",
       "    <tr>\n",
       "      <th>...</th>\n",
       "      <td>...</td>\n",
       "      <td>...</td>\n",
       "    </tr>\n",
       "    <tr>\n",
       "      <th>3446</th>\n",
       "      <td>잘 먹자 어찌 됐든 밥 챙겨 먹자. 그저 사는 게 아닌 잘 먹는 것이 잘 삶이다. ...</td>\n",
       "      <td>3</td>\n",
       "    </tr>\n",
       "    <tr>\n",
       "      <th>3447</th>\n",
       "      <td>아무런 기대없이 한끼 때우려들어갔는대 맛있어서 놀란 곳. 가게에서 직접 우려내는 육...</td>\n",
       "      <td>3</td>\n",
       "    </tr>\n",
       "    <tr>\n",
       "      <th>3448</th>\n",
       "      <td>0. 아침 일찍 문여는 몇 안되는 집. 지금은 바로 앞에 길동우동(8시 오픈)이 상...</td>\n",
       "      <td>3</td>\n",
       "    </tr>\n",
       "    <tr>\n",
       "      <th>3449</th>\n",
       "      <td>먹방 유투버 국밥부장관(액션홍구)이 극찬했다는 바로 그 집, 충남 아산 꽃돼지국밥!...</td>\n",
       "      <td>3</td>\n",
       "    </tr>\n",
       "    <tr>\n",
       "      <th>3450</th>\n",
       "      <td>여긴 정말 의정부 가면 꼬옥 가는 국밥집인데요.모든메뉴가 정말 중타이상이라서 애정하...</td>\n",
       "      <td>3</td>\n",
       "    </tr>\n",
       "  </tbody>\n",
       "</table>\n",
       "<p>3451 rows × 2 columns</p>\n",
       "</div>"
      ],
      "text/plain": [
       "                                                reviews  label\n",
       "0     1. 개인적으로 연예인들이 추천하는 맛집을 크게 신뢰하진 않는 편이었다. 하지만 최...      0\n",
       "1     길목은 맛있다. 웨이팅은 너무하지만 맛있는 고기임은 확실함. 고기가 아주 싱싱해서 ...      0\n",
       "2     맛있다는 얘기를 많이 듣기는 했었지만 사실 속으로 유명해서 유명해진 돼지고기집일 수...      0\n",
       "3     그 유명하다는 길목! 몇 년 전부터 정말 가보고 싶었는데 드디어 소원 이뤘지만 너무...      0\n",
       "4     명불허전 길목의 목살.암퇘지 전문점 길목이다. 서울 3대 목살이라 하는데 인정할 수...      0\n",
       "...                                                 ...    ...\n",
       "3446  잘 먹자 어찌 됐든 밥 챙겨 먹자. 그저 사는 게 아닌 잘 먹는 것이 잘 삶이다. ...      3\n",
       "3447  아무런 기대없이 한끼 때우려들어갔는대 맛있어서 놀란 곳. 가게에서 직접 우려내는 육...      3\n",
       "3448  0. 아침 일찍 문여는 몇 안되는 집. 지금은 바로 앞에 길동우동(8시 오픈)이 상...      3\n",
       "3449  먹방 유투버 국밥부장관(액션홍구)이 극찬했다는 바로 그 집, 충남 아산 꽃돼지국밥!...      3\n",
       "3450  여긴 정말 의정부 가면 꼬옥 가는 국밥집인데요.모든메뉴가 정말 중타이상이라서 애정하...      3\n",
       "\n",
       "[3451 rows x 2 columns]"
      ]
     },
     "execution_count": 3,
     "metadata": {},
     "output_type": "execute_result"
    }
   ],
   "source": [
    "total_data"
   ]
  },
  {
   "cell_type": "code",
   "execution_count": 275,
   "id": "23bf3107-346f-41ed-8b63-cf087b9baada",
   "metadata": {},
   "outputs": [
    {
     "name": "stdout",
     "output_type": "stream",
     "text": [
      "총 샘플의 수 : 3371\n",
      "True\n",
      "훈련용 리뷰의 개수 : 3033\n",
      "테스트용 리뷰의 개수 : 338\n"
     ]
    }
   ],
   "source": [
    "total_data['reviews'].nunique(), total_data['label'].nunique()\n",
    "total_data.drop_duplicates(subset=['reviews'], inplace=True) # reviews 열에서 중복인 내용이 있다면 중복 제거\n",
    "print('총 샘플의 수 :',len(total_data))\n",
    "print(total_data.isnull().values.any())\n",
    "\n",
    "\n",
    "train_data, test_data = train_test_split(total_data, test_size = 0.1, random_state = 20)\n",
    "print('훈련용 리뷰의 개수 :', len(train_data))\n",
    "print('테스트용 리뷰의 개수 :', len(test_data))"
   ]
  },
  {
   "cell_type": "code",
   "execution_count": 276,
   "id": "557b49e3-b1a3-413f-95ba-b8e24986c98c",
   "metadata": {},
   "outputs": [
    {
     "name": "stdout",
     "output_type": "stream",
     "text": [
      "reviews    5\n",
      "label      0\n",
      "dtype: int64\n",
      "전처리 후 훈련용 샘플의 개수 : 3028\n",
      "전처리 후 테스트용 샘플의 개수 : 338\n",
      "reviews    339\n",
      "label        0\n",
      "dtype: int64\n",
      "전처리 후 훈련용 샘플의 개수 : 2689\n",
      "전처리 후 테스트용 샘플의 개수 : 304\n"
     ]
    }
   ],
   "source": [
    "# 한글과 공백을 제외하고 모두 제거\n",
    "train_data['reviews'] = train_data['reviews'].str.replace(\"[^ㄱ-ㅎㅏ-ㅣ가-힣 ]\",\"\")\n",
    "train_data['reviews'].replace('', np.nan, inplace=True)\n",
    "print(train_data.isnull().sum())\n",
    "train_data = train_data.dropna(how='any') # Null 값 제거\n",
    "\n",
    "test_data.drop_duplicates(subset = ['reviews'], inplace=True) # 중복 제거\n",
    "test_data['reviews'] = test_data['reviews'].str.replace(\"[^ㄱ-ㅎㅏ-ㅣ가-힣 ]\",\"\") # 정규 표현식 수행\n",
    "test_data['reviews'].replace('', np.nan, inplace=True) # 공백은 Null 값으로 변경\n",
    "test_data = test_data.dropna(how='any') # Null 값 제거\n",
    "print('전처리 후 훈련용 샘플의 개수 :',len(train_data))\n",
    "print('전처리 후 테스트용 샘플의 개수 :',len(test_data))\n",
    "####################################################################\n",
    "train_data = train_data.reset_index(drop=True)\n",
    "test_data = test_data.reset_index(drop=True)\n",
    "####################################################################\n",
    "for i in range(0, len(train_data['reviews'])):\n",
    "    train_data['reviews'][i] = text_process(train_data['reviews'][i])\n",
    "for i in range(0, len(test_data['reviews'])):\n",
    "    test_data['reviews'][i] = text_process(test_data['reviews'][i])\n",
    "\n",
    "    # 한글과 공백을 제외하고 모두 제거\n",
    "train_data['reviews'] = train_data['reviews'].str.replace(\"[^ㄱ-ㅎㅏ-ㅣ가-힣 ]\",\"\")\n",
    "train_data['reviews'].replace('', np.nan, inplace=True)\n",
    "print(train_data.isnull().sum())\n",
    "train_data = train_data.dropna(how='any') # Null 값 제거\n",
    "\n",
    "test_data.drop_duplicates(subset = ['reviews'], inplace=True) # 중복 제거\n",
    "test_data['reviews'] = test_data['reviews'].str.replace(\"[^ㄱ-ㅎㅏ-ㅣ가-힣 ]\",\"\") # 정규 표현식 수행\n",
    "test_data['reviews'].replace('', np.nan, inplace=True) # 공백은 Null 값으로 변경\n",
    "test_data = test_data.dropna(how='any') # Null 값 제거\n",
    "print('전처리 후 훈련용 샘플의 개수 :',len(train_data))\n",
    "print('전처리 후 테스트용 샘플의 개수 :',len(test_data))\n",
    "\n",
    "train_data = train_data.reset_index(drop=True)\n",
    "test_data = test_data.reset_index(drop=True)\n",
    "    "
   ]
  },
  {
   "cell_type": "code",
   "execution_count": 277,
   "id": "df7cb1fd-3f63-47ed-9eec-d4f893bb5b4b",
   "metadata": {},
   "outputs": [],
   "source": [
    "train_data.to_csv(\"train_data.csv\", index = False)\n",
    "test_data.to_csv(\"test_data.csv\", index = False)"
   ]
  },
  {
   "cell_type": "code",
   "execution_count": 278,
   "id": "dabb3224-91a2-4013-991e-ccbdef1b1362",
   "metadata": {},
   "outputs": [],
   "source": [
    "train_data = pd.read_csv('train_data.csv')\n",
    "test_data = pd.read_csv('test_data.csv')"
   ]
  },
  {
   "cell_type": "code",
   "execution_count": 279,
   "id": "fae2a708-d513-49c7-995c-8b7a981965d2",
   "metadata": {},
   "outputs": [
    {
     "name": "stdout",
     "output_type": "stream",
     "text": [
      "['무난']\n",
      "['맛있']\n",
      "['그냥']\n",
      "['평범']\n",
      "['비싸']\n",
      "['개안']\n",
      "['ㅇ']\n",
      "['방문']\n",
      "['맛있']\n",
      "['ㅌ']\n",
      "['괜찮']\n",
      "['곱창']\n",
      "['겹']\n",
      "['ㅎ']\n",
      "['맛있']\n",
      "['구성비']\n",
      "['굿']\n",
      "['불친절']\n",
      "['굿']\n"
     ]
    }
   ],
   "source": [
    "#불용어 정의\n",
    "stopwords = ['도', '는', '다', '의', '가', '이', '은', '한', '에', '하', '고', '을', '를', '인', '듯', '과', '와', '네', '들', '듯', '지', '임', '게', '만', '게임', '겜', '되', '음', '면']\n",
    "stop = \"\"\"이\tVCP\t0.018279601\n",
    "있\tVA\t0.011699048\n",
    "하\tVV\t0.009773658\n",
    "것\tNNB\t0.00973315\n",
    "들\tXSN\t0.00689824\n",
    "그\tMM\t0.005327252\n",
    "되\tVV\t0.00361335\n",
    "수\tNNB\t0.003473622\n",
    "이\tNP\t0.003361203\n",
    "보\tVX\t0.003310379\n",
    "않\tVX\t0.0029757\n",
    "없\tVA\t0.002920476\n",
    "나\tNP\t0.002690479\n",
    "사람\tNNG\t0.002073917\n",
    "주\tVV\t0.001884579\n",
    "아니\tVCN\t0.001870774\n",
    "등\tNNB\t0.001822074\n",
    "같\tVA\t0.001724522\n",
    "우리\tNP\t0.001714509\n",
    "때\tNNG\t0.001685684\n",
    "년\tNNB\t0.001647755\n",
    "가\tVV\t0.001618626\n",
    "한\tMM\t0.001584036\n",
    "지\tVX\t0.001537763\n",
    "대하\tVV\t0.00150378\n",
    "오\tVV\t0.001490884\n",
    "말\tNNG\t0.001321876\n",
    "일\tNNG\t0.001239799\n",
    "그렇\tVA\t0.001232062\n",
    "위하\tVV\t0.001170618\n",
    "때문\tNNB\t0.001146647\n",
    "그것\tNP\t0.001099161\n",
    "두\tVV\t0.001063053\n",
    "말하\tVV\t0.001030587\n",
    "알\tVV\t0.000995693\n",
    "그러나\tMAJ\t0.000978246\n",
    "받\tVV\t0.000924084\n",
    "못하\tVX\t0.000904665\n",
    "일\tNNB\t0.000880239\n",
    "그런\tMM\t0.000879481\n",
    "또\tMAG\t0.000870985\n",
    "문제\tNNG\t0.000823954\n",
    "더\tMAG\t0.000801652\n",
    "사회\tNNG\t0.000793459\n",
    "많\tVA\t0.000789211\n",
    "그리고\tMAJ\t0.000779653\n",
    "좋\tVA\t0.000763723\n",
    "크\tVA\t0.000758565\n",
    "따르\tVV\t0.000738084\n",
    "중\tNNB\t0.000733229\n",
    "나오\tVV\t0.000725188\n",
    "가지\tVV\t0.000720485\n",
    "씨\tNNB\t0.000710169\n",
    "시키\tXSV\t0.000707893\n",
    "만들\tVV\t0.000703797\n",
    "지금\tNNG\t0.000699701\n",
    "생각하\tVV\t0.000694846\n",
    "그러\tVV\t0.000692418\n",
    "속\tNNG\t0.00068544\n",
    "하나\tNR\t0.000655097\n",
    "집\tNNG\t0.000648573\n",
    "살\tVV\t0.000648422\n",
    "모르\tVV\t0.000645084\n",
    "적\tXSN\t0.000643112\n",
    "월\tNNB\t0.000639319\n",
    "데\tNNB\t0.000636436\n",
    "자신\tNNG\t0.000632188\n",
    "안\tMAG\t0.000625968\n",
    "어떤\tMM\t0.000623237\n",
    "내\tNP\t0.000622023\n",
    "내\tVV\t0.000614438\n",
    "경우\tNNG\t0.000613831\n",
    "명\tNNB\t0.00061019\n",
    "생각\tNNG\t0.000587433\n",
    "시간\tNNG\t0.00057302\n",
    "그녀\tNP\t0.000571806\n",
    "다시\tMAG\t0.00055618\n",
    "이런\tMM\t0.000550263\n",
    "앞\tNNG\t0.000548898\n",
    "보이\tVV\t0.000542678\n",
    "번\tNNB\t0.000542526\n",
    "나\tVX\t0.000538126\n",
    "다른\tMM\t0.000536306\n",
    "어떻\tVA\t0.000533423\n",
    "여자\tNNG\t0.000531754\n",
    "개\tNNB\t0.000530085\n",
    "전\tNNG\t0.00052872\n",
    "들\tVV\t0.000514914\n",
    "사실\tNNG\t0.000511728\n",
    "이렇\tVA\t0.000511576\n",
    "점\tNNG\t0.000507935\n",
    "싶\tVX\t0.000504749\n",
    "말\tVX\t0.000503991\n",
    "정도\tNNG\t0.000496102\n",
    "좀\tMAG\t0.000492916\n",
    "원\tNNB\t0.000492309\n",
    "잘\tMAG\t0.000491399\n",
    "통하\tVV\t0.000486847\n",
    "소리\tNNG\t0.000485633\n",
    "놓\tVX\t0.000482751\n",
    "\"\"\"\n",
    "\n",
    "stoplist = re.split(r'[+ + \\t + \\n]', stop)\n",
    "# stoplist = re.split(r'[가-힣]', stop)\n",
    "# stoplist = re.compile('[가-힣]').findall(stop)\n",
    "for i in range(0, len(stoplist), 3):\n",
    "    stopwords.append(stoplist[i])\n",
    "stopwords= [s for s in stopwords if s != '']\n",
    "\n",
    "train_data['tokenized'] = train_data['reviews'].apply(mecab.morphs)\n",
    "train_data['tokenized'] = train_data['tokenized'].apply(lambda x: [item for item in x if item not in stopwords])\n",
    "test_data['tokenized'] = test_data['reviews'].apply(mecab.morphs)\n",
    "test_data['tokenized'] = test_data['tokenized'].apply(lambda x: [item for item in x if item not in stopwords])\n",
    "\n",
    "\n",
    "train_data = train_data.reset_index(drop=True)\n",
    "test_data = test_data.reset_index(drop=True)\n",
    "\n",
    "\n",
    "#너무 짧은 리뷰는 제거\n",
    "for i in range(1, len(train_data['tokenized'])):\n",
    "    if len(train_data['tokenized'][i]) < 2:\n",
    "        print(train_data['tokenized'][i])\n",
    "        train_data = train_data.drop([i],axis = 0)\n",
    "        \n",
    "\n",
    "for i in range(1, len(test_data['tokenized'])):\n",
    "    if len(test_data['tokenized'][i]) < 2:\n",
    "        print(test_data['tokenized'][i])\n",
    "        test_data = test_data.drop([i],axis = 0)\n",
    "        \n",
    "train_data = train_data.reset_index(drop=True)\n",
    "test_data = test_data.reset_index(drop=True)\n",
    "\n",
    "\n",
    "X_train = train_data['tokenized'].values\n",
    "y_train = train_data['label'].values\n",
    "X_test= test_data['tokenized'].values\n",
    "y_test = test_data['label'].values\n",
    "\n",
    "tokenizer = Tokenizer()\n",
    "tokenizer.fit_on_texts(X_train)"
   ]
  },
  {
   "cell_type": "code",
   "execution_count": 280,
   "id": "f3fd1f17-15d3-47f3-a5aa-97c294e32b84",
   "metadata": {},
   "outputs": [
    {
     "name": "stdout",
     "output_type": "stream",
     "text": [
      "단어 집합(vocabulary)의 크기 : 10074\n",
      "등장 빈도가 2번 이하인 희귀 단어의 수: 4562\n",
      "단어 집합에서 희귀 단어의 비율: 45.284891800675005\n",
      "전체 등장 빈도에서 희귀 단어 등장 빈도 비율: 3.392628729511854\n"
     ]
    }
   ],
   "source": [
    "\n",
    "threshold = 2\n",
    "total_cnt = len(tokenizer.word_index) # 단어의 수\n",
    "rare_cnt = 0 # 등장 빈도수가 threshold보다 작은 단어의 개수를 카운트\n",
    "total_freq = 0 # 훈련 데이터의 전체 단어 빈도수 총 합\n",
    "rare_freq = 0 # 등장 빈도수가 threshold보다 작은 단어의 등장 빈도수의 총 합\n",
    "\n",
    "# 단어와 빈도수의 쌍(pair)을 key와 value로 받는다.\n",
    "for key, value in tokenizer.word_counts.items():\n",
    "    total_freq = total_freq + value\n",
    "\n",
    "    # 단어의 등장 빈도수가 threshold보다 작으면\n",
    "    if(value < threshold):\n",
    "        rare_cnt = rare_cnt + 1\n",
    "        rare_freq = rare_freq + value\n",
    "\n",
    "print('단어 집합(vocabulary)의 크기 :',total_cnt)\n",
    "print('등장 빈도가 %s번 이하인 희귀 단어의 수: %s'%(threshold , rare_cnt))\n",
    "print(\"단어 집합에서 희귀 단어의 비율:\", (rare_cnt / total_cnt)*100)\n",
    "print(\"전체 등장 빈도에서 희귀 단어 등장 빈도 비율:\", (rare_freq / total_freq)*100)\n"
   ]
  },
  {
   "cell_type": "code",
   "execution_count": 281,
   "id": "e4aeb1a4-ae5b-4cd8-a9f3-2d872c0683ac",
   "metadata": {},
   "outputs": [
    {
     "name": "stdout",
     "output_type": "stream",
     "text": [
      "단어 집합의 크기 : 5514\n"
     ]
    }
   ],
   "source": [
    "# 전체 단어 개수 중 빈도수 2이하인 단어 개수는 제거.\n",
    "# 0번 패딩 토큰과 1번 OOV 토큰을 고려하여 +2\n",
    "vocab_size = total_cnt - rare_cnt + 2\n",
    "print('단어 집합의 크기 :',vocab_size)\n",
    "\n",
    "tokenizer = Tokenizer(vocab_size, oov_token = 'OOV') \n",
    "tokenizer.fit_on_texts(X_train)"
   ]
  },
  {
   "cell_type": "code",
   "execution_count": 282,
   "id": "a8010845-193e-474c-9ca3-e386543a0863",
   "metadata": {},
   "outputs": [
    {
     "name": "stdout",
     "output_type": "stream",
     "text": [
      "전체 샘플 중 길이가 300 이하인 샘플의 비율: 100.0\n"
     ]
    }
   ],
   "source": [
    "X_train = tokenizer.texts_to_sequences(X_train)\n",
    "X_test = tokenizer.texts_to_sequences(X_test)\n",
    "def below_threshold_len(max_len, nested_list):\n",
    "    count = 0\n",
    "    for sentence in nested_list:\n",
    "        if(len(sentence) <= max_len):\n",
    "            count = count + 1\n",
    "    print('전체 샘플 중 길이가 %s 이하인 샘플의 비율: %s'%(max_len, (count / len(nested_list))*100))\n",
    "\n",
    "max_len = 300\n",
    "below_threshold_len(max_len, X_train)"
   ]
  },
  {
   "cell_type": "code",
   "execution_count": 283,
   "id": "4d8dd5d0-4bfb-4bdd-99de-191cd30aa64d",
   "metadata": {},
   "outputs": [],
   "source": [
    "X_train = pad_sequences(X_train, maxlen=max_len)\n",
    "X_test = pad_sequences(X_test, maxlen=max_len)"
   ]
  },
  {
   "cell_type": "code",
   "execution_count": 4,
   "id": "a646e459-6249-4c2a-8e4e-a6f7f123d1a7",
   "metadata": {},
   "outputs": [],
   "source": [
    "from gensim.models import fasttext\n",
    "\n",
    "model = fasttext.load_facebook_model('cc.ko.300.bin')"
   ]
  },
  {
   "cell_type": "code",
   "execution_count": 7,
   "id": "df0fc042-3010-4e26-960d-bccd608b5931",
   "metadata": {},
   "outputs": [],
   "source": [
    "emotions = ['가성비', '술집', '분위기', '청결', '맛집', '뷰', '한적', '시끌벅적', '활동적','기념일', '고급진', '감성적', '가족', '전통적', '모던한', '편안한', '색다른',\n",
    "'애견동반', '편리한', '이국적']"
   ]
  },
  {
   "cell_type": "code",
   "execution_count": 8,
   "id": "44f1b69d-e94a-4061-a197-3e132cf22975",
   "metadata": {},
   "outputs": [
    {
     "name": "stdout",
     "output_type": "stream",
     "text": [
      "3795\n",
      "32063\n",
      "5266\n",
      "49905\n",
      "2839\n",
      "8210\n",
      "157658\n",
      "186566\n",
      "174207\n",
      "22264\n",
      "141905\n",
      "54468\n",
      "612\n",
      "8467\n",
      "23000\n",
      "2372\n",
      "11494\n",
      "1294436\n",
      "4782\n",
      "149672\n"
     ]
    }
   ],
   "source": [
    "for i in emotions:\n",
    "    try:\n",
    "        print(model.wv.key_to_index[i])\n",
    "    except:\n",
    "        print('null')\n",
    "        "
   ]
  },
  {
   "cell_type": "code",
   "execution_count": 25,
   "id": "15e79534-f8a2-4667-bde9-d13e532b0bd3",
   "metadata": {},
   "outputs": [],
   "source": [
    "tmp = []\n",
    "for i in emotions:\n",
    "    tmp.append(model.wv.most_similar(i))"
   ]
  },
  {
   "cell_type": "code",
   "execution_count": 26,
   "id": "6effb02c-efba-4af8-ab35-93b73acaf15f",
   "metadata": {},
   "outputs": [
    {
     "data": {
      "text/plain": [
       "[[('719위', 0.6658939719200134),\n",
       "  ('234위', 0.6524614095687866),\n",
       "  ('467위', 0.6508278250694275),\n",
       "  ('445위', 0.6381197571754456),\n",
       "  ('321위', 0.6291288137435913),\n",
       "  ('514위', 0.6279513239860535),\n",
       "  ('634위', 0.6203398108482361),\n",
       "  ('384위', 0.6199716329574585),\n",
       "  ('713위', 0.6112664937973022),\n",
       "  ('839위', 0.6007509827613831)],\n",
       " [('주점', 0.5747563242912292),\n",
       "  ('술집과', 0.5621869564056396),\n",
       "  ('밥집', 0.5430620312690735),\n",
       "  ('피자집', 0.5342158079147339),\n",
       "  ('삐끼', 0.5339789390563965),\n",
       "  ('방석집', 0.5329165458679199),\n",
       "  ('유흥', 0.5316259860992432),\n",
       "  ('여종업원', 0.5313736796379089),\n",
       "  ('맥주집', 0.5231595635414124),\n",
       "  ('닭집', 0.5210198163986206)],\n",
       " [('분위기를', 0.671783983707428),\n",
       "  ('분위기와', 0.6558778882026672),\n",
       "  ('분위기가', 0.6548929214477539),\n",
       "  ('분위기도', 0.6394948959350586),\n",
       "  ('분위기는', 0.63541179895401),\n",
       "  ('분위기에', 0.5868253707885742),\n",
       "  ('분위기로', 0.5808834433555603),\n",
       "  ('분위기의', 0.57512366771698),\n",
       "  ('분위기에서', 0.5464282631874084),\n",
       "  ('01년생의', 0.5455527901649475)],\n",
       " [('위생', 0.5843746662139893),\n",
       "  ('청결함', 0.5840024352073669),\n",
       "  ('청결도', 0.5807130932807922),\n",
       "  ('청결과', 0.577036440372467),\n",
       "  ('친절', 0.5507188439369202),\n",
       "  ('쾌적', 0.5160381197929382),\n",
       "  ('청결을', 0.5116704702377319),\n",
       "  ('깨끗', 0.5108780860900879),\n",
       "  ('청결상태', 0.5097038149833679),\n",
       "  ('청결성', 0.4918680191040039)],\n",
       " [('멋집', 0.717289388179779),\n",
       "  ('종로맛집', 0.6045606136322021),\n",
       "  ('전국맛집', 0.5844253301620483),\n",
       "  ('안내최신', 0.5827277302742004),\n",
       "  ('맛집을', 0.5721105337142944),\n",
       "  ('맛집은', 0.5706976056098938),\n",
       "  ('데이트코스', 0.5656501650810242),\n",
       "  ('서울맛집', 0.565310537815094),\n",
       "  ('맛집과', 0.564987063407898),\n",
       "  ('동대문맛집', 0.562744677066803)],\n",
       " [('뷰의', 0.6784833073616028),\n",
       "  ('뷰는', 0.6307888031005859),\n",
       "  ('뷰를', 0.6216828227043152),\n",
       "  ('뷰에', 0.6187159419059753),\n",
       "  ('콜롱비에', 0.6128953099250793),\n",
       "  ('객실아쿠아', 0.6099640130996704),\n",
       "  ('뷰가', 0.5981398820877075),\n",
       "  ('뷰와', 0.5934926271438599),\n",
       "  ('아트스', 0.5813084244728088),\n",
       "  ('뷰로', 0.5596508383750916)],\n",
       " [('漢籍', 0.6158281564712524),\n",
       "  ('한적은', 0.4775039553642273),\n",
       "  ('말한적', 0.4748392403125763),\n",
       "  ('필욘', 0.4564487934112549),\n",
       "  ('가본적', 0.453222393989563),\n",
       "  ('해본적', 0.4526544511318207),\n",
       "  ('발끈할', 0.45025157928466797),\n",
       "  ('들은적', 0.449466735124588),\n",
       "  ('우길', 0.4459126889705658),\n",
       "  ('그런말', 0.4448910653591156)],\n",
       " [('시끌벅적하다', 0.5912560224533081),\n",
       "  ('시끌벅적하고', 0.5901497602462769),\n",
       "  ('왁자지껄', 0.5851945877075195),\n",
       "  ('시끌벅적한', 0.5781611800193787),\n",
       "  ('시끌벅적했다', 0.5432283282279968),\n",
       "  ('시끌벅적하게', 0.5431936383247375),\n",
       "  ('시끌벅적합니다', 0.5402582883834839),\n",
       "  ('하우이와', 0.5347241759300232),\n",
       "  ('시끌벅적뉴스', 0.5287157893180847),\n",
       "  ('북적북적', 0.5282576680183411)],\n",
       " [('상태적', 0.494533896446228),\n",
       "  ('활동적인', 0.44509103894233704),\n",
       "  ('독립심', 0.40602871775627136),\n",
       "  ('자기발전', 0.404294490814209),\n",
       "  ('가치감', 0.4027964472770691),\n",
       "  ('여가는', 0.39604225754737854),\n",
       "  ('평균적', 0.3959903120994568),\n",
       "  ('주도성과', 0.3951437175273895),\n",
       "  ('참여란', 0.3898746073246002),\n",
       "  ('통제감', 0.38972094655036926)],\n",
       " [('기념일을', 0.6722019910812378),\n",
       "  ('기념일에', 0.6186004281044006),\n",
       "  ('기념일이', 0.599988579750061),\n",
       "  ('기념일에는', 0.5968343019485474),\n",
       "  ('기념일이나', 0.5769800543785095),\n",
       "  ('기념일로', 0.5561625361442566),\n",
       "  ('기념일인', 0.5536389350891113),\n",
       "  ('창립기념일', 0.548007607460022),\n",
       "  ('국경일', 0.5433168411254883),\n",
       "  ('어머니날', 0.5328331589698792)],\n",
       " [('깔금한', 0.5691392421722412),\n",
       "  ('고급스러운', 0.5686607360839844),\n",
       "  ('빈티지함과', 0.547972559928894),\n",
       "  ('소재감', 0.5418124794960022),\n",
       "  ('고급스런', 0.5400222539901733),\n",
       "  ('퀄리티있는', 0.5344037413597107),\n",
       "  ('깔끔한', 0.5246487855911255),\n",
       "  ('샤방한', 0.5241683721542358),\n",
       "  ('팬시한', 0.5213132500648499),\n",
       "  ('놈코어룩', 0.5169830322265625)],\n",
       " [('감성적인', 0.5538696646690369),\n",
       "  ('이성적', 0.5535584688186646),\n",
       "  ('감각적', 0.5328162908554077),\n",
       "  ('감성과', 0.5289575457572937),\n",
       "  ('감성에', 0.523819625377655),\n",
       "  ('소구와', 0.5237282514572144),\n",
       "  ('쾌락적', 0.5111563801765442),\n",
       "  ('감성보다는', 0.5108639001846313),\n",
       "  ('감정적', 0.5029927492141724),\n",
       "  ('숭고의', 0.4963185787200928)],\n",
       " [('멜로다큐', 0.6314994096755981),\n",
       "  ('친지', 0.6244649887084961),\n",
       "  ('家族', 0.6061099767684937),\n",
       "  ('오락관', 0.5969728231430054),\n",
       "  ('푸콘', 0.5624155402183533),\n",
       "  ('출시ㆍ우리', 0.556937038898468),\n",
       "  ('슈돌', 0.5460627675056458),\n",
       "  ('가족과', 0.5415053963661194),\n",
       "  ('우쿠레레', 0.5342689156532288),\n",
       "  ('신족', 0.5261022448539734)],\n",
       " [('전통적인', 0.7096946239471436),\n",
       "  ('傳統的', 0.6091524362564087),\n",
       "  ('교사관에', 0.5699541568756104),\n",
       "  ('강세지역인', 0.5271410942077637),\n",
       "  ('전통', 0.5267389416694641),\n",
       "  ('현대적', 0.5243175625801086),\n",
       "  ('서구적', 0.5215097665786743),\n",
       "  ('가족개념', 0.5104506015777588),\n",
       "  ('민족정서를', 0.4897613227367401),\n",
       "  ('다신교에', 0.4884839951992035)],\n",
       " [('세련된', 0.6920235753059387),\n",
       "  ('모던하고', 0.656498908996582),\n",
       "  ('모던하면서도', 0.6180092096328735),\n",
       "  ('북유럽풍의', 0.6093506217002869),\n",
       "  ('심플한', 0.6085131764411926),\n",
       "  ('클래식하고', 0.5986922383308411),\n",
       "  ('모던하면서', 0.5853164196014404),\n",
       "  ('앤티크한', 0.5848474502563477),\n",
       "  ('모던함과', 0.5845783352851868),\n",
       "  ('북유럽풍', 0.5767830014228821)],\n",
       " [('안락한', 0.6585569977760315),\n",
       "  ('쾌적한', 0.6180234551429749),\n",
       "  ('편안하고', 0.5961840748786926),\n",
       "  ('럭셔리하면서도', 0.591890811920166),\n",
       "  ('편안하며', 0.5829553604125977),\n",
       "  ('편안하게', 0.582474946975708),\n",
       "  ('아늑한', 0.5792537927627563),\n",
       "  ('착화감으로', 0.5787345170974731),\n",
       "  ('디럭스룸에서', 0.57497239112854),\n",
       "  ('안락하면서도', 0.5683510303497314)],\n",
       " [('독특한', 0.589693009853363),\n",
       "  ('이색적인', 0.5860462784767151),\n",
       "  ('이색적이고', 0.5449297428131104),\n",
       "  ('다채로운', 0.5378520488739014),\n",
       "  ('색다르고', 0.5040221810340881),\n",
       "  ('새로운', 0.5038943886756897),\n",
       "  ('특별한', 0.5034027695655823),\n",
       "  ('매력을', 0.4985097646713257),\n",
       "  ('차별화된', 0.4982462227344513),\n",
       "  ('신선한', 0.4968915581703186)],\n",
       " [('조금일찍', 0.5621709227561951),\n",
       "  ('세화해변', 0.5596656799316406),\n",
       "  ('놀러가고싶다', 0.5594264268875122),\n",
       "  ('우정여행', 0.5536670684814453),\n",
       "  ('자주가는데', 0.5491389632225037),\n",
       "  ('여행코스는', 0.5487014055252075),\n",
       "  ('여행가려고', 0.5446263551712036),\n",
       "  ('제주여행이', 0.5408262014389038),\n",
       "  ('안면도펜션', 0.539421796798706),\n",
       "  ('1박하고', 0.5390761494636536)],\n",
       " [('편리하고', 0.7031322717666626),\n",
       "  ('특징사용이', 0.5898475646972656),\n",
       "  ('편리하게', 0.585863471031189),\n",
       "  ('편리하면서도', 0.5494997501373291),\n",
       "  ('편리', 0.5478167533874512),\n",
       "  ('편리해', 0.5372593998908997),\n",
       "  ('간편한', 0.5335950255393982),\n",
       "  ('편리해진', 0.5301955342292786),\n",
       "  ('편리하며', 0.5288265943527222),\n",
       "  ('제공사용하기', 0.5152553915977478)],\n",
       " [('이국적인', 0.5977520942687988),\n",
       "  ('옛스러운', 0.5148826241493225),\n",
       "  ('정취의', 0.5141158103942871),\n",
       "  ('정취와', 0.5119691491127014),\n",
       "  ('지중해풍', 0.5092922449111938),\n",
       "  ('지중해풍의', 0.49281370639801025),\n",
       "  ('토속적', 0.49277669191360474),\n",
       "  ('운치와', 0.4887978434562683),\n",
       "  ('풍광의', 0.4852108657360077),\n",
       "  ('자연미', 0.47320088744163513)]]"
      ]
     },
     "execution_count": 26,
     "metadata": {},
     "output_type": "execute_result"
    }
   ],
   "source": [
    "tmp"
   ]
  },
  {
   "cell_type": "code",
   "execution_count": 285,
   "id": "5babb438-15eb-4280-8b2a-dc620ee0c7e6",
   "metadata": {},
   "outputs": [
    {
     "name": "stdout",
     "output_type": "stream",
     "text": [
      "10074 5514\n",
      "958\n",
      "5514\n",
      "5514 10075\n"
     ]
    }
   ],
   "source": [
    "#단어집합\n",
    "tmp = []\n",
    "#문장집합\n",
    "sen_tmp = []\n",
    "\n",
    "for words in train_data['tokenized']:\n",
    "    sen_tmp.append(words)\n",
    "    for word in words:\n",
    "        tmp.append(word)\n",
    "        \n",
    "result = list(dict.fromkeys(tmp))\n",
    "print(len(result), vocab_size)\n",
    "\n",
    "cnt = 0\n",
    "\n",
    "for k in tokenizer.word_index:\n",
    "    if k not in model.wv.key_to_index:\n",
    "        cnt += 1\n",
    "        \n",
    "print(cnt)\n",
    "\n",
    "embedding_matrix = np.zeros((vocab_size, 300))\n",
    "\n",
    "print(vocab_size)\n",
    "print(len(embedding_matrix), len(tokenizer.word_index))"
   ]
  },
  {
   "cell_type": "code",
   "execution_count": 286,
   "id": "a881452f-ffb8-4c92-8b5b-33fd58c40799",
   "metadata": {},
   "outputs": [],
   "source": [
    "#임베딩학습단어에 있는 단어 집합\n",
    "in_tmp = []\n",
    "for word in tmp:\n",
    "    if word in model.wv.key_to_index :\n",
    "        in_tmp.append(word)\n",
    "        \n",
    "#임베딩학습단어에 없는 단어 집합\n",
    "notin_tmp = []      \n",
    "for word in tmp:\n",
    "    if word not in model.wv.key_to_index :\n",
    "        notin_tmp.append(word)\n",
    "        \n",
    "for i in range(1, len(embedding_matrix)):\n",
    "    for word in tokenizer.word_index:\n",
    "        if word in model.wv.key_to_index:\n",
    "            embedding_matrix[i] = model.wv.vectors[model.wv.key_to_index[word]]\n"
   ]
  },
  {
   "cell_type": "code",
   "execution_count": 287,
   "id": "852a597a-b9bf-49e1-b560-658f21cf5adb",
   "metadata": {},
   "outputs": [],
   "source": [
    "import tensorflow as tf\n",
    "\n",
    "class BahdanauAttention(tf.keras.Model):\n",
    "    def __init__(self, units):\n",
    "        super(BahdanauAttention, self).__init__()\n",
    "        self.W1 = Dense(units)\n",
    "        self.W2 = Dense(units)\n",
    "        self.V = Dense(1)\n",
    "\n",
    "    def call(self, values, query): # 단, key와 value는 같음\n",
    "        # query shape == (batch_size, hidden size)\n",
    "        # hidden_with_time_axis shape == (batch_size, 1, hidden size)\n",
    "        # score 계산을 위해 뒤에서 할 덧셈을 위해서 차원을 변경해줍니다.\n",
    "        hidden_with_time_axis = tf.expand_dims(query, 1)\n",
    "\n",
    "        # score shape == (batch_size, max_length, 1)\n",
    "        # we get 1 at the last axis because we are applying score to self.V\n",
    "        # the shape of the tensor before applying self.V is (batch_size, max_length, units)\n",
    "        score = self.V(tf.nn.tanh(\n",
    "            self.W1(values) + self.W2(hidden_with_time_axis)))\n",
    "\n",
    "        # attention_weights shape == (batch_size, max_length, 1)\n",
    "        attention_weights = tf.nn.softmax(score, axis=1)\n",
    "\n",
    "        # context_vector shape after sum == (batch_size, hidden_size)\n",
    "        context_vector = attention_weights * values\n",
    "        context_vector = tf.reduce_sum(context_vector, axis=1)\n",
    "\n",
    "        return context_vector, attention_weights\n"
   ]
  },
  {
   "cell_type": "code",
   "execution_count": 344,
   "id": "82758c43-0706-49f5-9cd8-813a7a23f4d4",
   "metadata": {},
   "outputs": [],
   "source": [
    "from tensorflow.keras.layers import Dense, Embedding, Bidirectional, LSTM, Concatenate, Dropout, Flatten, Activation,BatchNormalization\n",
    "from tensorflow.keras import Input, Model, layers, optimizers, metrics\n",
    "from tensorflow.keras import optimizers\n",
    "from tensorflow.keras.callbacks import ModelCheckpoint, EarlyStopping\n",
    "import tensorflow\n",
    "import numpy as np\n",
    "import matplotlib.pyplot as plt\n",
    "import h5py\n",
    "\n",
    "\n",
    "\n",
    "\n",
    "model_name = 'text_classify'\n",
    "batch_size = 64\n",
    "num_epochs = 20\n",
    "valid_split = 0.1\n",
    "# input_sequence = Input(shape=(max_len,), dtype='int32')\n",
    "\n",
    "# kargs = {'model_name' : model_name,\n",
    "#         'vacab_size' : vocab_size,\n",
    "#          'max_len': max_len,\n",
    "#         'embedding_size' : 300,\n",
    "#          'embedding_matrix' : embedding_matrix,\n",
    "#          'lstm_size' : 150,\n",
    "#         'dropout_rate' : 0.5,\n",
    "#         'hidden_dimension' : 250,\n",
    "#         'output_dimension' : 1}\n",
    "\n",
    "\n",
    "\n",
    "\n",
    "# class text_classify(tf.keras.Model):\n",
    "#     def __init__(self, **kargs):\n",
    "#         super(text_classify, self).__init__(name=kargs['model_name'])\n",
    "#         # self.input_sequence = Input(shape=(kargs['max_len'],), dtype='int32')\n",
    "\n",
    "#         self.custom_embedding = layers.Embedding(input_dim=kargs['vacab_size'],\n",
    "#                                          output_dim=kargs['embedding_size'],\n",
    "#                                          weights=[kargs['embedding_matrix']],\n",
    "#                                          input_length=kargs['max_len'], \n",
    "#                                          trainable=True\n",
    "#                                          )\n",
    "        \n",
    "#         self.custom_lstm = Bidirectional(LSTM(kargs['lstm_size'], \n",
    "#                                        dropout=kargs['dropout_rate'], \n",
    "#                                        return_sequences = True))\n",
    "        \n",
    "#         self.custom_lstm_2 = Bidirectional(LSTM(kargs['lstm_size'], dropout=kargs['dropout_rate'],\n",
    "#                            return_sequences=True, return_state=True))\n",
    "        \n",
    "# #         self.tmp = self.custom_lstm(self.custom_embedding)\n",
    "  \n",
    "#         self.custom_lstm, self.forward_h, self.forward_c, self.backward_h, self.backward_c = self.custom_lstm_2\n",
    "        \n",
    "#         self.state_h = Concatenate()([self.forward_h, self.backward_h]) # 은닉 상태\n",
    "#         self.state_c = Concatenate()([self.forward_c, self.backward_c]) # 셀 상태\n",
    "     \n",
    "#         self.custom_attention = BahdanauAttention(64) # 가중치 크기 정의\n",
    "#         self.context_vector, self.attention_weights = self.custom_attention(self.custom_lstm, self.state_h)\n",
    "\n",
    "#         self.custom_dense1 = Dense(64, activation=\"elu\")\n",
    "#         self.custom_dropout = Dropout(0.5)\n",
    "#         self.output_layer = Dense(4, activation=\"softmax\")\n",
    "        \n",
    "#         # self.tmp_2 = self.output_layer(self.custom_dropout(self.custom_dense1(self.context_vector)))\n",
    "        \n",
    "#         # self.custom_model = Model(inputs=self.input_sequence, outputs=self.tmp_2)\n",
    "    \n",
    "#     def lstm_tmp(self, x):\n",
    "#         return Bidirectional(LSTM(kargs['lstm_size'], dropout=kargs['dropout_rate'],\n",
    "#                            return_sequences=True, return_state=True))(x)\n",
    "#     def call(self, x):\n",
    "#         # print(x)\n",
    "#         # print(self)\n",
    "#         # print(type(x))\n",
    "#         # for i in x:\n",
    "#         #     print(i)\n",
    "#         #     print(type(i))\n",
    "#         # print(type(self.input_sequence))\n",
    "#         # x = self.input_sequence\n",
    "#         x = self.custom_embedding(x)\n",
    "#         x = self.custom_lstm(x)\n",
    "#         self.custom_lstm, self.forward_h, self.forward_c, self.backward_h, self.backward_c = self.custom_lstm_2(x)\n",
    "#         self.state_h = Concatenate()([self.forward_h, self.backward_h]) # 은닉 상태\n",
    "#         self.state_c = Concatenate()([self.forward_c, self.backward_c]) # 셀 상태\n",
    "#         self.custom_attention = BahdanauAttention(64)\n",
    "#         self.context_vector, self.attention_weights = self.custom_attention(self.custom_lstm, self.state_h)\n",
    "           \n",
    "#         x = self.custom_dense1(self.context_vector)\n",
    "#         x = self.custom_dropout(x)\n",
    "#         x = self.output_layer(x)\n",
    "#         # self.custom_model = Model(inputs=self.input_sequence, outputs=x)\n",
    "        \n",
    "#         return x\n",
    "        \n",
    "\n",
    "#     def get_config(self):\n",
    "#         config = super().get_config().copy()\n",
    "#         config.update({'model_name' : self.model_name,\n",
    "#         'vacab_size' : self.vocab_size,\n",
    "#          'max_len': self.max_len,\n",
    "#         'embedding_size' : 300,\n",
    "#          'embedding_matrix' : self.embedding_matrix,\n",
    "#          'lstm_size' : 150,\n",
    "#         'dropout_rate' : 0.5,\n",
    "#         'hidden_dimension' : 250,\n",
    "#         'output_dimension' : 1})\n",
    "#         return config\n",
    "\n",
    "    \n",
    "# text_model = text_classify(**kargs)\n",
    "\n",
    "# sequence_input = Input(shape=(max_len,), dtype='int32')\n",
    "# embedded_sequences = Embedding(vocab_size, 300, weights=[embedding_matrix], input_length=max_len, trainable=True)(sequence_input)\n",
    "\n",
    "# lstm = Bidirectional(LSTM(150, dropout=0.5, return_sequences = True))(embedded_sequences)\n",
    "\n",
    "# lstm, forward_h, forward_c, backward_h, backward_c = Bidirectional(LSTM(150, dropout=0.5, return_sequences=True, return_state=True))(lstm)\n",
    "\n",
    "\n",
    "# state_h = Concatenate()([forward_h, backward_h]) # 은닉 상태\n",
    "# state_c = Concatenate()([forward_c, backward_c]) # 셀 상태\n",
    "\n",
    "# attention = BahdanauAttention(64) # 가중치 크기 정의\n",
    "# context_vector, attention_weights = attention(lstm, state_h)\n",
    "\n",
    "# dense1 = Dense(64, activation=\"elu\")(context_vector)\n",
    "# dropout = Dropout(0.5)(dense1)\n",
    "# output = Dense(4, activation=\"softmax\")(dropout)\n",
    "# model = Model(inputs=sequence_input, outputs=output)\n",
    "\n",
    "# model.compile(loss='sparse_categorical_crossentropy', optimizer='Nadam', metrics=['accuracy'])\n",
    "# input_sequence = Input(shape=(max_len,), dtype='int32')\n",
    "\n",
    "kargs = {'vocab_size' : vocab_size,\n",
    "         'max_len': max_len,\n",
    "        'embedding_size' : 300,\n",
    "         'embedding_matrix' : [embedding_matrix],\n",
    "         'lstm_size' : 256,\n",
    "        'dropout_rate' : 0.3,\n",
    "        'hidden_dimension' : 250,\n",
    "        'output_dimension' : 1}\n",
    "\n",
    "def bi_lstm(**kargs):\n",
    "    sequence_input = Input(shape=(kargs['max_len'],), dtype='int32')\n",
    "    embedded_sequences = Embedding(kargs['vocab_size'], kargs['embedding_size'], weights=kargs['embedding_matrix'], input_length=kargs['max_len'], trainable=True)(sequence_input)\n",
    "\n",
    "    lstm = Bidirectional(LSTM(kargs['lstm_size'], dropout=kargs['dropout_rate'],  return_sequences = True))(embedded_sequences)\n",
    "\n",
    "    lstm, forward_h, forward_c, backward_h, backward_c = Bidirectional(LSTM(kargs['lstm_size'], dropout=kargs['dropout_rate'], return_sequences=True, return_state=True))(lstm)\n",
    "\n",
    "\n",
    "    state_h = Concatenate()([forward_h, backward_h]) # 은닉 상태\n",
    "    state_c = Concatenate()([forward_c, backward_c]) # 셀 상태\n",
    "\n",
    "    attention = BahdanauAttention(128) # 가중치 크기 정의\n",
    "    context_vector, attention_weights = attention(lstm, state_h)\n",
    "\n",
    "    # hidden = BatchNormalization()(context_vector)\n",
    "    dense1 = Dense(128, activation=\"elu\")(context_vector)\n",
    "    dropout_1 = Dropout(0.5)(dense1)\n",
    "    dense2 = Dense(64, activation=\"elu\")(dropout_1)\n",
    "    dropout_2 = Dropout(0.5)(dense2)\n",
    "    # dense3 = Dense(32, activation=\"elu\")(dropout_2)\n",
    "    # dropout_3 = Dropout(0.5)(dense3)\n",
    "    dense4 = Dense(16, activation=\"elu\")(dropout_2)\n",
    "    dropout_4 = Dropout(0.5)(dense4)\n",
    "    # dense5 = Dense(8, activation=\"elu\")(dropout_4)\n",
    "    # dropout_5 = Dropout(0.5)(dense5)\n",
    "    output = Dense(4, activation=\"softmax\")(dropout_4)\n",
    "    model = Model(inputs=sequence_input, outputs=output)\n",
    "    Nadam = tf.keras.optimizers.Nadam(learning_rate=0.001)\n",
    "    model.compile(loss='sparse_categorical_crossentropy', optimizer=Nadam, metrics=['accuracy'])\n",
    "    return model\n",
    "\n",
    "\n",
    "#최적화 과정\n",
    "modelpath = \"Text/check/Text_train.hdf5\"\n",
    "checkpointer = ModelCheckpoint(filepath=modelpath, monitor='val_loss', verbose=2, save_best_only=True)\n",
    "early_stopping_callback = EarlyStopping(monitor='val_loss', patience=10)\n",
    "\n",
    "\n",
    "\n",
    "#model 함수 : build\n",
    "#build 는 class로 model 구성할때만 필요\n",
    "#Sequential() -> model.add 하면 build 필요 x\n",
    "#build 할때 size 필요\n",
    "# (batch_size, params['input_dimension']) -> (row, col) size를 파라미터로\n",
    "# # 이 parameter의 batch_size는 행의 크기만 전달\n",
    "# model.build((64, vocab_size))\n",
    "# model.summary()\n",
    "\n"
   ]
  },
  {
   "cell_type": "code",
   "execution_count": 345,
   "id": "3fb43767-76ca-4b2f-856f-c7f54b4705a7",
   "metadata": {},
   "outputs": [
    {
     "data": {
      "text/plain": [
       "(5514, 300)"
      ]
     },
     "execution_count": 345,
     "metadata": {},
     "output_type": "execute_result"
    }
   ],
   "source": [
    "np.shape(embedding_matrix)"
   ]
  },
  {
   "cell_type": "code",
   "execution_count": 346,
   "id": "271394fc-6279-4cb3-8302-2373eb2936e2",
   "metadata": {},
   "outputs": [],
   "source": [
    "text_model = bi_lstm(**kargs)"
   ]
  },
  {
   "cell_type": "code",
   "execution_count": 347,
   "id": "91cf850c-2748-49a2-8a61-6d017050a336",
   "metadata": {},
   "outputs": [
    {
     "name": "stdout",
     "output_type": "stream",
     "text": [
      "Model: \"model_38\"\n",
      "__________________________________________________________________________________________________\n",
      " Layer (type)                   Output Shape         Param #     Connected to                     \n",
      "==================================================================================================\n",
      " input_41 (InputLayer)          [(None, 300)]        0           []                               \n",
      "                                                                                                  \n",
      " embedding_40 (Embedding)       (None, 300, 300)     1654200     ['input_41[0][0]']               \n",
      "                                                                                                  \n",
      " bidirectional_81 (Bidirectiona  (None, 300, 512)    1140736     ['embedding_40[0][0]']           \n",
      " l)                                                                                               \n",
      "                                                                                                  \n",
      " bidirectional_82 (Bidirectiona  [(None, 300, 512),  1574912     ['bidirectional_81[0][0]']       \n",
      " l)                              (None, 256),                                                     \n",
      "                                 (None, 256),                                                     \n",
      "                                 (None, 256),                                                     \n",
      "                                 (None, 256)]                                                     \n",
      "                                                                                                  \n",
      " concatenate_80 (Concatenate)   (None, 512)          0           ['bidirectional_82[0][1]',       \n",
      "                                                                  'bidirectional_82[0][3]']       \n",
      "                                                                                                  \n",
      " bahdanau_attention_40 (Bahdana  ((None, 512),       131457      ['bidirectional_82[0][0]',       \n",
      " uAttention)                     (None, 300, 1))                  'concatenate_80[0][0]']         \n",
      "                                                                                                  \n",
      " dense_244 (Dense)              (None, 128)          65664       ['bahdanau_attention_40[0][0]']  \n",
      "                                                                                                  \n",
      " dropout_64 (Dropout)           (None, 128)          0           ['dense_244[0][0]']              \n",
      "                                                                                                  \n",
      " dense_245 (Dense)              (None, 64)           8256        ['dropout_64[0][0]']             \n",
      "                                                                                                  \n",
      " dropout_65 (Dropout)           (None, 64)           0           ['dense_245[0][0]']              \n",
      "                                                                                                  \n",
      " dense_246 (Dense)              (None, 16)           1040        ['dropout_65[0][0]']             \n",
      "                                                                                                  \n",
      " dropout_66 (Dropout)           (None, 16)           0           ['dense_246[0][0]']              \n",
      "                                                                                                  \n",
      " dense_247 (Dense)              (None, 4)            68          ['dropout_66[0][0]']             \n",
      "                                                                                                  \n",
      "==================================================================================================\n",
      "Total params: 4,576,333\n",
      "Trainable params: 4,576,333\n",
      "Non-trainable params: 0\n",
      "__________________________________________________________________________________________________\n"
     ]
    }
   ],
   "source": [
    "text_model.summary()"
   ]
  },
  {
   "cell_type": "code",
   "execution_count": 348,
   "id": "a8affe5e-cac1-4c92-991c-cd49a8bf4f21",
   "metadata": {},
   "outputs": [
    {
     "name": "stdout",
     "output_type": "stream",
     "text": [
      "Epoch 1/50\n",
      "84/84 - 15s - loss: 1.3971 - accuracy: 0.2588 - val_loss: 1.3995 - val_accuracy: 0.2664 - 15s/epoch - 178ms/step\n",
      "Epoch 2/50\n",
      "84/84 - 9s - loss: 1.3922 - accuracy: 0.2719 - val_loss: 1.3871 - val_accuracy: 0.2664 - 9s/epoch - 108ms/step\n",
      "Epoch 3/50\n",
      "84/84 - 9s - loss: 1.3873 - accuracy: 0.2764 - val_loss: 1.3886 - val_accuracy: 0.2664 - 9s/epoch - 110ms/step\n",
      "Epoch 4/50\n",
      "84/84 - 9s - loss: 1.3898 - accuracy: 0.2712 - val_loss: 1.3875 - val_accuracy: 0.2664 - 9s/epoch - 108ms/step\n",
      "Epoch 5/50\n",
      "84/84 - 9s - loss: 1.3865 - accuracy: 0.2880 - val_loss: 1.3862 - val_accuracy: 0.2664 - 9s/epoch - 107ms/step\n",
      "Epoch 6/50\n",
      "84/84 - 9s - loss: 1.4460 - accuracy: 0.2816 - val_loss: 1.3858 - val_accuracy: 0.2664 - 9s/epoch - 110ms/step\n",
      "Epoch 7/50\n",
      "84/84 - 9s - loss: 1.3161 - accuracy: 0.3483 - val_loss: 1.1890 - val_accuracy: 0.4211 - 9s/epoch - 109ms/step\n",
      "Epoch 8/50\n",
      "84/84 - 9s - loss: 1.1729 - accuracy: 0.4498 - val_loss: 1.0828 - val_accuracy: 0.4605 - 9s/epoch - 108ms/step\n",
      "Epoch 9/50\n",
      "84/84 - 9s - loss: 1.0329 - accuracy: 0.5494 - val_loss: 0.8023 - val_accuracy: 0.6283 - 9s/epoch - 110ms/step\n",
      "Epoch 10/50\n",
      "84/84 - 9s - loss: 0.7840 - accuracy: 0.6674 - val_loss: 0.6573 - val_accuracy: 0.6842 - 9s/epoch - 108ms/step\n",
      "Epoch 11/50\n",
      "84/84 - 9s - loss: 0.5411 - accuracy: 0.7985 - val_loss: 0.8799 - val_accuracy: 0.7467 - 9s/epoch - 109ms/step\n",
      "Epoch 12/50\n",
      "84/84 - 9s - loss: 0.3919 - accuracy: 0.8828 - val_loss: 0.6204 - val_accuracy: 0.8059 - 9s/epoch - 109ms/step\n",
      "Epoch 13/50\n",
      "84/84 - 9s - loss: 0.2506 - accuracy: 0.9300 - val_loss: 0.6927 - val_accuracy: 0.7796 - 9s/epoch - 109ms/step\n",
      "Epoch 14/50\n",
      "84/84 - 9s - loss: 0.1929 - accuracy: 0.9524 - val_loss: 0.8495 - val_accuracy: 0.7829 - 9s/epoch - 109ms/step\n",
      "Epoch 15/50\n",
      "84/84 - 9s - loss: 0.1643 - accuracy: 0.9618 - val_loss: 0.7970 - val_accuracy: 0.7961 - 9s/epoch - 108ms/step\n",
      "Epoch 16/50\n",
      "84/84 - 9s - loss: 0.1351 - accuracy: 0.9674 - val_loss: 0.9408 - val_accuracy: 0.7763 - 9s/epoch - 107ms/step\n",
      "Epoch 17/50\n",
      "84/84 - 9s - loss: 0.0937 - accuracy: 0.9813 - val_loss: 1.0399 - val_accuracy: 0.8125 - 9s/epoch - 109ms/step\n",
      "Epoch 18/50\n",
      "84/84 - 9s - loss: 0.0863 - accuracy: 0.9805 - val_loss: 1.3228 - val_accuracy: 0.7895 - 9s/epoch - 110ms/step\n",
      "Epoch 19/50\n",
      "84/84 - 9s - loss: 0.1113 - accuracy: 0.9772 - val_loss: 1.6337 - val_accuracy: 0.7566 - 9s/epoch - 109ms/step\n",
      "Epoch 20/50\n",
      "84/84 - 9s - loss: 0.0997 - accuracy: 0.9760 - val_loss: 1.3393 - val_accuracy: 0.7829 - 9s/epoch - 110ms/step\n",
      "Epoch 21/50\n",
      "84/84 - 9s - loss: 0.0849 - accuracy: 0.9839 - val_loss: 1.5399 - val_accuracy: 0.7632 - 9s/epoch - 109ms/step\n",
      "Epoch 22/50\n",
      "84/84 - 9s - loss: 0.1022 - accuracy: 0.9779 - val_loss: 1.2348 - val_accuracy: 0.7697 - 9s/epoch - 110ms/step\n"
     ]
    }
   ],
   "source": [
    "# history = model.fit(X_train, y_train, epochs = 7, batch_size = 128, validation_data=(X_test, y_test), verbose=2)\n",
    "text_model = bi_lstm(**kargs)\n",
    "\n",
    "history = text_model.fit(X_train, y_train, epochs = 50, batch_size = 32, validation_data=(X_test, y_test), verbose=2,\n",
    "                   callbacks=[early_stopping_callback])\n"
   ]
  },
  {
   "cell_type": "code",
   "execution_count": 349,
   "id": "44b9af2f-b925-46bf-bd5a-0ea67d6928f0",
   "metadata": {},
   "outputs": [
    {
     "name": "stdout",
     "output_type": "stream",
     "text": [
      "10/10 [==============================] - 1s 42ms/step - loss: 1.2348 - accuracy: 0.7697\n",
      "Test Accuracy: 0.7697\n"
     ]
    },
    {
     "data": {
      "image/png": "[encoded data removed]",
      "text/plain": [
       "<Figure size 640x480 with 1 Axes>"
      ]
     },
     "metadata": {},
     "output_type": "display_data"
    },
    {
     "data": {
      "image/png": "[encoded data removed]",
      "text/plain": [
       "<Figure size 640x480 with 1 Axes>"
      ]
     },
     "metadata": {},
     "output_type": "display_data"
    }
   ],
   "source": [
    "\n",
    "\n",
    "print(\"Test Accuracy: %.4f\" % (text_model.evaluate(X_test, y_test)[1]))\n",
    "\n",
    "y_vloss = history.history['val_loss']\n",
    "y_loss = history.history['loss']\n",
    "\n",
    "# 그래프로 표현해 보겠습니다.\n",
    "x_len = np.arange(len(y_loss))\n",
    "plt.plot(x_len, y_vloss, marker='.', c=\"red\", label='Testset_loss')\n",
    "plt.plot(x_len, y_loss, marker='.', c=\"blue\", label='Trainset_loss')\n",
    "\n",
    "# 그래프에 그리드를 주고 레이블을 표시하겠습니다. \n",
    "plt.legend(loc='upper right')\n",
    "plt.grid()\n",
    "plt.xlabel('epoch')\n",
    "plt.ylabel('loss')\n",
    "plt.show()\n",
    "\n",
    "y_vloss = history.history['val_accuracy']\n",
    "y_loss = history.history['accuracy']\n",
    "\n",
    "# 그래프로 표현해 보겠습니다.\n",
    "x_len = np.arange(len(y_loss))\n",
    "plt.plot(x_len, y_vloss, marker='.', c=\"red\", label='Testset_accuracy')\n",
    "plt.plot(x_len, y_loss, marker='.', c=\"blue\", label='Trainset_accuracy')\n",
    "\n",
    "# 그래프에 그리드를 주고 레이블을 표시하겠습니다. \n",
    "plt.legend(loc='upper right')\n",
    "plt.grid()\n",
    "plt.xlabel('epoch')\n",
    "plt.ylabel('accuracy')\n",
    "plt.show()\n"
   ]
  },
  {
   "cell_type": "code",
   "execution_count": null,
   "id": "22a8c093-dfa8-484a-ba40-2524f30fe05a",
   "metadata": {},
   "outputs": [],
   "source": []
  },
  {
   "cell_type": "code",
   "execution_count": 29,
   "id": "dc5a36de-9c7f-4405-90b4-b04d47f32f60",
   "metadata": {},
   "outputs": [],
   "source": [
    "def get_vector(word):\n",
    "    if word in model.wv.key_to_index:\n",
    "        return model.wv.vectors[model.wv.key_to_index[word]]\n",
    "    else:\n",
    "        return None"
   ]
  },
  {
   "cell_type": "code",
   "execution_count": null,
   "id": "c23a928c-21e4-494a-8db1-682a7f14e862",
   "metadata": {},
   "outputs": [],
   "source": []
  },
  {
   "cell_type": "code",
   "execution_count": 27,
   "id": "c06f4f1e-2bca-41cb-9f5e-da3867964161",
   "metadata": {},
   "outputs": [
    {
     "name": "stderr",
     "output_type": "stream",
     "text": [
      "WARNING:gensim.models.fasttext:could not extract any ngrams from '망쳤', returning origin vector\n",
      "WARNING:gensim.models.fasttext:could not extract any ngrams from '예용', returning origin vector\n",
      "WARNING:gensim.models.fasttext:could not extract any ngrams from '예용', returning origin vector\n",
      "WARNING:gensim.models.fasttext:could not extract any ngrams from '질기', returning origin vector\n",
      "WARNING:gensim.models.fasttext:could not extract any ngrams from '능란', returning origin vector\n",
      "WARNING:gensim.models.fasttext:could not extract any ngrams from '꿉실', returning origin vector\n",
      "WARNING:gensim.models.fasttext:could not extract any ngrams from '꿉실', returning origin vector\n",
      "WARNING:gensim.models.fasttext:could not extract any ngrams from '칼칼', returning origin vector\n",
      "WARNING:gensim.models.fasttext:could not extract any ngrams from '더군', returning origin vector\n",
      "WARNING:gensim.models.fasttext:could not extract any ngrams from '더군', returning origin vector\n",
      "WARNING:gensim.models.fasttext:could not extract any ngrams from '더군', returning origin vector\n",
      "WARNING:gensim.models.fasttext:could not extract any ngrams from '뭇국', returning origin vector\n",
      "WARNING:gensim.models.fasttext:could not extract any ngrams from '토렴', returning origin vector\n",
      "WARNING:gensim.models.fasttext:could not extract any ngrams from '려나', returning origin vector\n",
      "WARNING:gensim.models.fasttext:could not extract any ngrams from '뒤이', returning origin vector\n",
      "WARNING:gensim.models.fasttext:could not extract any ngrams from '당겼', returning origin vector\n",
      "WARNING:gensim.models.fasttext:could not extract any ngrams from '계셨', returning origin vector\n",
      "WARNING:gensim.models.fasttext:could not extract any ngrams from '끓이', returning origin vector\n",
      "WARNING:gensim.models.fasttext:could not extract any ngrams from '쁘리', returning origin vector\n",
      "WARNING:gensim.models.fasttext:could not extract any ngrams from '실하', returning origin vector\n",
      "WARNING:gensim.models.fasttext:could not extract any ngrams from '쌀떡', returning origin vector\n",
      "WARNING:gensim.models.fasttext:could not extract any ngrams from '셌', returning origin vector\n",
      "WARNING:gensim.models.fasttext:could not extract any ngrams from '으러', returning origin vector\n",
      "WARNING:gensim.models.fasttext:could not extract any ngrams from '탁하', returning origin vector\n",
      "WARNING:gensim.models.fasttext:could not extract any ngrams from '텁텁', returning origin vector\n",
      "WARNING:gensim.models.fasttext:could not extract any ngrams from '돋우', returning origin vector\n",
      "WARNING:gensim.models.fasttext:could not extract any ngrams from '앉히', returning origin vector\n",
      "WARNING:gensim.models.fasttext:could not extract any ngrams from '깨졌', returning origin vector\n",
      "WARNING:gensim.models.fasttext:could not extract any ngrams from '속젓', returning origin vector\n",
      "WARNING:gensim.models.fasttext:could not extract any ngrams from '으러', returning origin vector\n",
      "WARNING:gensim.models.fasttext:could not extract any ngrams from '육향', returning origin vector\n",
      "WARNING:gensim.models.fasttext:could not extract any ngrams from '그윽', returning origin vector\n",
      "WARNING:gensim.models.fasttext:could not extract any ngrams from '청첩', returning origin vector\n",
      "WARNING:gensim.models.fasttext:could not extract any ngrams from '벅적', returning origin vector\n",
      "WARNING:gensim.models.fasttext:could not extract any ngrams from '흔하', returning origin vector\n",
      "WARNING:gensim.models.fasttext:could not extract any ngrams from '환하', returning origin vector\n",
      "WARNING:gensim.models.fasttext:could not extract any ngrams from '놀랬', returning origin vector\n",
      "WARNING:gensim.models.fasttext:could not extract any ngrams from '뭇국', returning origin vector\n",
      "WARNING:gensim.models.fasttext:could not extract any ngrams from '숙집', returning origin vector\n",
      "WARNING:gensim.models.fasttext:could not extract any ngrams from '불렸', returning origin vector\n",
      "WARNING:gensim.models.fasttext:could not extract any ngrams from '으러', returning origin vector\n",
      "WARNING:gensim.models.fasttext:could not extract any ngrams from '두껍', returning origin vector\n",
      "WARNING:gensim.models.fasttext:could not extract any ngrams from '두껍', returning origin vector\n",
      "WARNING:gensim.models.fasttext:could not extract any ngrams from '으러', returning origin vector\n",
      "WARNING:gensim.models.fasttext:could not extract any ngrams from '막혔', returning origin vector\n",
      "WARNING:gensim.models.fasttext:could not extract any ngrams from '싱겁', returning origin vector\n",
      "WARNING:gensim.models.fasttext:could not extract any ngrams from '놀랬', returning origin vector\n"
     ]
    }
   ],
   "source": [
    "old_vector_tmp = []\n",
    "for i in notin_tmp:\n",
    "    old_vector_tmp.append(np.copy(model.wv[i]))"
   ]
  },
  {
   "cell_type": "code",
   "execution_count": 28,
   "id": "e2bb0dc7-d1fe-4f0d-ae75-c91a3e00665e",
   "metadata": {},
   "outputs": [],
   "source": [
    "new_sentences = sen_tmp"
   ]
  },
  {
   "cell_type": "code",
   "execution_count": 29,
   "id": "938de170-696f-4f08-918d-b06afadb289d",
   "metadata": {},
   "outputs": [],
   "source": [
    "model.build_vocab(new_sentences, update=True)"
   ]
  },
  {
   "cell_type": "code",
   "execution_count": 30,
   "id": "a3d9425b-8f67-4a7d-8c62-74925e40825f",
   "metadata": {},
   "outputs": [
    {
     "data": {
      "text/plain": [
       "(1575, 4000)"
      ]
     },
     "execution_count": 30,
     "metadata": {},
     "output_type": "execute_result"
    }
   ],
   "source": [
    "model.train(new_sentences, total_examples=len(new_sentences), epochs=model.epochs)"
   ]
  },
  {
   "cell_type": "code",
   "execution_count": 31,
   "id": "488254ab-6d0c-4477-831a-3960a4513431",
   "metadata": {},
   "outputs": [
    {
     "name": "stderr",
     "output_type": "stream",
     "text": [
      "WARNING:gensim.models.fasttext:could not extract any ngrams from '망쳤', returning origin vector\n",
      "WARNING:gensim.models.fasttext:could not extract any ngrams from '예용', returning origin vector\n",
      "WARNING:gensim.models.fasttext:could not extract any ngrams from '예용', returning origin vector\n",
      "WARNING:gensim.models.fasttext:could not extract any ngrams from '질기', returning origin vector\n",
      "WARNING:gensim.models.fasttext:could not extract any ngrams from '능란', returning origin vector\n",
      "WARNING:gensim.models.fasttext:could not extract any ngrams from '꿉실', returning origin vector\n",
      "WARNING:gensim.models.fasttext:could not extract any ngrams from '꿉실', returning origin vector\n",
      "WARNING:gensim.models.fasttext:could not extract any ngrams from '칼칼', returning origin vector\n",
      "WARNING:gensim.models.fasttext:could not extract any ngrams from '더군', returning origin vector\n",
      "WARNING:gensim.models.fasttext:could not extract any ngrams from '더군', returning origin vector\n",
      "WARNING:gensim.models.fasttext:could not extract any ngrams from '더군', returning origin vector\n",
      "WARNING:gensim.models.fasttext:could not extract any ngrams from '뭇국', returning origin vector\n",
      "WARNING:gensim.models.fasttext:could not extract any ngrams from '토렴', returning origin vector\n",
      "WARNING:gensim.models.fasttext:could not extract any ngrams from '려나', returning origin vector\n",
      "WARNING:gensim.models.fasttext:could not extract any ngrams from '뒤이', returning origin vector\n",
      "WARNING:gensim.models.fasttext:could not extract any ngrams from '당겼', returning origin vector\n",
      "WARNING:gensim.models.fasttext:could not extract any ngrams from '계셨', returning origin vector\n",
      "WARNING:gensim.models.fasttext:could not extract any ngrams from '끓이', returning origin vector\n",
      "WARNING:gensim.models.fasttext:could not extract any ngrams from '쁘리', returning origin vector\n",
      "WARNING:gensim.models.fasttext:could not extract any ngrams from '실하', returning origin vector\n",
      "WARNING:gensim.models.fasttext:could not extract any ngrams from '쌀떡', returning origin vector\n",
      "WARNING:gensim.models.fasttext:could not extract any ngrams from '셌', returning origin vector\n",
      "WARNING:gensim.models.fasttext:could not extract any ngrams from '으러', returning origin vector\n",
      "WARNING:gensim.models.fasttext:could not extract any ngrams from '탁하', returning origin vector\n",
      "WARNING:gensim.models.fasttext:could not extract any ngrams from '텁텁', returning origin vector\n",
      "WARNING:gensim.models.fasttext:could not extract any ngrams from '돋우', returning origin vector\n",
      "WARNING:gensim.models.fasttext:could not extract any ngrams from '앉히', returning origin vector\n",
      "WARNING:gensim.models.fasttext:could not extract any ngrams from '깨졌', returning origin vector\n",
      "WARNING:gensim.models.fasttext:could not extract any ngrams from '속젓', returning origin vector\n",
      "WARNING:gensim.models.fasttext:could not extract any ngrams from '으러', returning origin vector\n",
      "WARNING:gensim.models.fasttext:could not extract any ngrams from '육향', returning origin vector\n",
      "WARNING:gensim.models.fasttext:could not extract any ngrams from '그윽', returning origin vector\n",
      "WARNING:gensim.models.fasttext:could not extract any ngrams from '청첩', returning origin vector\n",
      "WARNING:gensim.models.fasttext:could not extract any ngrams from '벅적', returning origin vector\n",
      "WARNING:gensim.models.fasttext:could not extract any ngrams from '흔하', returning origin vector\n",
      "WARNING:gensim.models.fasttext:could not extract any ngrams from '환하', returning origin vector\n",
      "WARNING:gensim.models.fasttext:could not extract any ngrams from '놀랬', returning origin vector\n",
      "WARNING:gensim.models.fasttext:could not extract any ngrams from '뭇국', returning origin vector\n",
      "WARNING:gensim.models.fasttext:could not extract any ngrams from '숙집', returning origin vector\n",
      "WARNING:gensim.models.fasttext:could not extract any ngrams from '불렸', returning origin vector\n",
      "WARNING:gensim.models.fasttext:could not extract any ngrams from '으러', returning origin vector\n",
      "WARNING:gensim.models.fasttext:could not extract any ngrams from '두껍', returning origin vector\n",
      "WARNING:gensim.models.fasttext:could not extract any ngrams from '두껍', returning origin vector\n",
      "WARNING:gensim.models.fasttext:could not extract any ngrams from '으러', returning origin vector\n",
      "WARNING:gensim.models.fasttext:could not extract any ngrams from '막혔', returning origin vector\n",
      "WARNING:gensim.models.fasttext:could not extract any ngrams from '싱겁', returning origin vector\n",
      "WARNING:gensim.models.fasttext:could not extract any ngrams from '놀랬', returning origin vector\n"
     ]
    }
   ],
   "source": [
    "old_vector_tmp\n",
    "for vector, word in zip(old_vector_tmp, notin_tmp):\n",
    "    new_vector = model.wv[word]\n",
    "    np.allclose(vector, new_vector, atol=1e-4)"
   ]
  },
  {
   "cell_type": "code",
   "execution_count": 32,
   "id": "c6f54be8-1825-4d49-94c9-84f386324d88",
   "metadata": {},
   "outputs": [
    {
     "data": {
      "text/plain": [
       "2000001"
      ]
     },
     "execution_count": 32,
     "metadata": {},
     "output_type": "execute_result"
    }
   ],
   "source": [
    "len(model.wv.key_to_index)"
   ]
  },
  {
   "cell_type": "code",
   "execution_count": 13,
   "id": "a725f513-9c9c-4784-b489-05ce9190d14a",
   "metadata": {},
   "outputs": [
    {
     "ename": "TypeError",
     "evalue": "Either one of corpus_file or corpus_iterable value must be provided",
     "output_type": "error",
     "traceback": [
      "\u001b[1;31m---------------------------------------------------------------------------\u001b[0m",
      "\u001b[1;31mTypeError\u001b[0m                                 Traceback (most recent call last)",
      "\u001b[1;32m~\\AppData\\Local\\Temp\\ipykernel_12480\\3581279860.py\u001b[0m in \u001b[0;36m<module>\u001b[1;34m\u001b[0m\n\u001b[0;32m      1\u001b[0m \u001b[1;32mimport\u001b[0m \u001b[0mnumpy\u001b[0m \u001b[1;32mas\u001b[0m \u001b[0mnp\u001b[0m\u001b[1;33m\u001b[0m\u001b[1;33m\u001b[0m\u001b[0m\n\u001b[0;32m      2\u001b[0m \u001b[0mold_word\u001b[0m \u001b[1;33m=\u001b[0m \u001b[0mnp\u001b[0m\u001b[1;33m.\u001b[0m\u001b[0mcopy\u001b[0m\u001b[1;33m(\u001b[0m\u001b[0mmodel\u001b[0m\u001b[1;33m.\u001b[0m\u001b[0mwv\u001b[0m\u001b[1;33m[\u001b[0m\u001b[1;34m'어쩔티비'\u001b[0m\u001b[1;33m]\u001b[0m\u001b[1;33m)\u001b[0m\u001b[1;33m\u001b[0m\u001b[1;33m\u001b[0m\u001b[0m\n\u001b[1;32m----> 3\u001b[1;33m \u001b[0mmodel\u001b[0m\u001b[1;33m.\u001b[0m\u001b[0mbuild_vocab\u001b[0m\u001b[1;33m(\u001b[0m\u001b[0mupdate\u001b[0m\u001b[1;33m=\u001b[0m\u001b[1;32mTrue\u001b[0m\u001b[1;33m)\u001b[0m\u001b[1;33m\u001b[0m\u001b[1;33m\u001b[0m\u001b[0m\n\u001b[0m",
      "\u001b[1;32m~\\Anaconda3\\envs\\python_VM3\\lib\\site-packages\\gensim\\models\\word2vec.py\u001b[0m in \u001b[0;36mbuild_vocab\u001b[1;34m(self, corpus_iterable, corpus_file, update, progress_per, keep_raw_vocab, trim_rule, **kwargs)\u001b[0m\n\u001b[0;32m    485\u001b[0m \u001b[1;33m\u001b[0m\u001b[0m\n\u001b[0;32m    486\u001b[0m         \"\"\"\n\u001b[1;32m--> 487\u001b[1;33m         \u001b[0mself\u001b[0m\u001b[1;33m.\u001b[0m\u001b[0m_check_corpus_sanity\u001b[0m\u001b[1;33m(\u001b[0m\u001b[0mcorpus_iterable\u001b[0m\u001b[1;33m=\u001b[0m\u001b[0mcorpus_iterable\u001b[0m\u001b[1;33m,\u001b[0m \u001b[0mcorpus_file\u001b[0m\u001b[1;33m=\u001b[0m\u001b[0mcorpus_file\u001b[0m\u001b[1;33m,\u001b[0m \u001b[0mpasses\u001b[0m\u001b[1;33m=\u001b[0m\u001b[1;36m1\u001b[0m\u001b[1;33m)\u001b[0m\u001b[1;33m\u001b[0m\u001b[1;33m\u001b[0m\u001b[0m\n\u001b[0m\u001b[0;32m    488\u001b[0m         total_words, corpus_count = self.scan_vocab(\n\u001b[0;32m    489\u001b[0m             corpus_iterable=corpus_iterable, corpus_file=corpus_file, progress_per=progress_per, trim_rule=trim_rule)\n",
      "\u001b[1;32m~\\Anaconda3\\envs\\python_VM3\\lib\\site-packages\\gensim\\models\\word2vec.py\u001b[0m in \u001b[0;36m_check_corpus_sanity\u001b[1;34m(self, corpus_iterable, corpus_file, passes)\u001b[0m\n\u001b[0;32m   1492\u001b[0m         \u001b[1;34m\"\"\"Checks whether the corpus parameters make sense.\"\"\"\u001b[0m\u001b[1;33m\u001b[0m\u001b[1;33m\u001b[0m\u001b[0m\n\u001b[0;32m   1493\u001b[0m         \u001b[1;32mif\u001b[0m \u001b[0mcorpus_file\u001b[0m \u001b[1;32mis\u001b[0m \u001b[1;32mNone\u001b[0m \u001b[1;32mand\u001b[0m \u001b[0mcorpus_iterable\u001b[0m \u001b[1;32mis\u001b[0m \u001b[1;32mNone\u001b[0m\u001b[1;33m:\u001b[0m\u001b[1;33m\u001b[0m\u001b[1;33m\u001b[0m\u001b[0m\n\u001b[1;32m-> 1494\u001b[1;33m             \u001b[1;32mraise\u001b[0m \u001b[0mTypeError\u001b[0m\u001b[1;33m(\u001b[0m\u001b[1;34m\"Either one of corpus_file or corpus_iterable value must be provided\"\u001b[0m\u001b[1;33m)\u001b[0m\u001b[1;33m\u001b[0m\u001b[1;33m\u001b[0m\u001b[0m\n\u001b[0m\u001b[0;32m   1495\u001b[0m         \u001b[1;32mif\u001b[0m \u001b[0mcorpus_file\u001b[0m \u001b[1;32mis\u001b[0m \u001b[1;32mnot\u001b[0m \u001b[1;32mNone\u001b[0m \u001b[1;32mand\u001b[0m \u001b[0mcorpus_iterable\u001b[0m \u001b[1;32mis\u001b[0m \u001b[1;32mnot\u001b[0m \u001b[1;32mNone\u001b[0m\u001b[1;33m:\u001b[0m\u001b[1;33m\u001b[0m\u001b[1;33m\u001b[0m\u001b[0m\n\u001b[0;32m   1496\u001b[0m             \u001b[1;32mraise\u001b[0m \u001b[0mTypeError\u001b[0m\u001b[1;33m(\u001b[0m\u001b[1;34m\"Both corpus_file and corpus_iterable must not be provided at the same time\"\u001b[0m\u001b[1;33m)\u001b[0m\u001b[1;33m\u001b[0m\u001b[1;33m\u001b[0m\u001b[0m\n",
      "\u001b[1;31mTypeError\u001b[0m: Either one of corpus_file or corpus_iterable value must be provided"
     ]
    }
   ],
   "source": [
    "import numpy as np\n",
    "old_word = np.copy(model.wv['어쩔티비'])\n",
    "model.build_vocab(update=True)"
   ]
  },
  {
   "cell_type": "code",
   "execution_count": 114,
   "id": "1d36da4f-1b38-4235-b4dc-0a2c40ae34a8",
   "metadata": {},
   "outputs": [],
   "source": [
    "model = FastText(vector_size=4, window=3, min_count=1)  "
   ]
  },
  {
   "cell_type": "code",
   "execution_count": 113,
   "id": "47e5ad9f-1fb4-4d7f-ac60-13e9c88b7ad8",
   "metadata": {},
   "outputs": [
    {
     "data": {
      "text/plain": [
       "<gensim.models.fasttext.FastTextKeyedVectors at 0x1b134e6a0c8>"
      ]
     },
     "execution_count": 113,
     "metadata": {},
     "output_type": "execute_result"
    }
   ],
   "source": [
    "model.wv"
   ]
  },
  {
   "cell_type": "code",
   "execution_count": 130,
   "id": "bccc1b3b-7908-4922-a6b9-1501d0ca4cd4",
   "metadata": {},
   "outputs": [
    {
     "data": {
      "text/plain": [
       "{}"
      ]
     },
     "execution_count": 130,
     "metadata": {},
     "output_type": "execute_result"
    }
   ],
   "source": [
    "model.wv.key_to_index"
   ]
  },
  {
   "cell_type": "code",
   "execution_count": 121,
   "id": "d824b5c7-912f-4734-91b6-b9e5c3814a20",
   "metadata": {},
   "outputs": [
    {
     "ename": "AttributeError",
     "evalue": "'NoneType' object has no attribute 'shape'",
     "output_type": "error",
     "traceback": [
      "\u001b[1;31m---------------------------------------------------------------------------\u001b[0m",
      "\u001b[1;31mAttributeError\u001b[0m                            Traceback (most recent call last)",
      "\u001b[1;32m~\\AppData\\Local\\Temp\\ipykernel_24516\\186923469.py\u001b[0m in \u001b[0;36m<module>\u001b[1;34m\u001b[0m\n\u001b[1;32m----> 1\u001b[1;33m \u001b[0mprint\u001b[0m\u001b[1;33m(\u001b[0m\u001b[0mmodel\u001b[0m\u001b[1;33m.\u001b[0m\u001b[0mwv\u001b[0m\u001b[1;33m[\u001b[0m\u001b[1;34m'대한'\u001b[0m\u001b[1;33m]\u001b[0m\u001b[1;33m)\u001b[0m\u001b[1;33m\u001b[0m\u001b[1;33m\u001b[0m\u001b[0m\n\u001b[0m",
      "\u001b[1;32m~\\Anaconda3\\envs\\python_VM3\\lib\\site-packages\\gensim\\models\\keyedvectors.py\u001b[0m in \u001b[0;36m__getitem__\u001b[1;34m(self, key_or_keys)\u001b[0m\n\u001b[0;32m    402\u001b[0m         \"\"\"\n\u001b[0;32m    403\u001b[0m         \u001b[1;32mif\u001b[0m \u001b[0misinstance\u001b[0m\u001b[1;33m(\u001b[0m\u001b[0mkey_or_keys\u001b[0m\u001b[1;33m,\u001b[0m \u001b[0m_KEY_TYPES\u001b[0m\u001b[1;33m)\u001b[0m\u001b[1;33m:\u001b[0m\u001b[1;33m\u001b[0m\u001b[1;33m\u001b[0m\u001b[0m\n\u001b[1;32m--> 404\u001b[1;33m             \u001b[1;32mreturn\u001b[0m \u001b[0mself\u001b[0m\u001b[1;33m.\u001b[0m\u001b[0mget_vector\u001b[0m\u001b[1;33m(\u001b[0m\u001b[0mkey_or_keys\u001b[0m\u001b[1;33m)\u001b[0m\u001b[1;33m\u001b[0m\u001b[1;33m\u001b[0m\u001b[0m\n\u001b[0m\u001b[0;32m    405\u001b[0m \u001b[1;33m\u001b[0m\u001b[0m\n\u001b[0;32m    406\u001b[0m         \u001b[1;32mreturn\u001b[0m \u001b[0mvstack\u001b[0m\u001b[1;33m(\u001b[0m\u001b[1;33m[\u001b[0m\u001b[0mself\u001b[0m\u001b[1;33m.\u001b[0m\u001b[0mget_vector\u001b[0m\u001b[1;33m(\u001b[0m\u001b[0mkey\u001b[0m\u001b[1;33m)\u001b[0m \u001b[1;32mfor\u001b[0m \u001b[0mkey\u001b[0m \u001b[1;32min\u001b[0m \u001b[0mkey_or_keys\u001b[0m\u001b[1;33m]\u001b[0m\u001b[1;33m)\u001b[0m\u001b[1;33m\u001b[0m\u001b[1;33m\u001b[0m\u001b[0m\n",
      "\u001b[1;32m~\\Anaconda3\\envs\\python_VM3\\lib\\site-packages\\gensim\\models\\fasttext.py\u001b[0m in \u001b[0;36mget_vector\u001b[1;34m(self, word, norm)\u001b[0m\n\u001b[0;32m   1109\u001b[0m             \u001b[1;32mraise\u001b[0m \u001b[0mKeyError\u001b[0m\u001b[1;33m(\u001b[0m\u001b[1;34m'cannot calculate vector for OOV word without ngrams'\u001b[0m\u001b[1;33m)\u001b[0m\u001b[1;33m\u001b[0m\u001b[1;33m\u001b[0m\u001b[0m\n\u001b[0;32m   1110\u001b[0m         \u001b[1;32melse\u001b[0m\u001b[1;33m:\u001b[0m\u001b[1;33m\u001b[0m\u001b[1;33m\u001b[0m\u001b[0m\n\u001b[1;32m-> 1111\u001b[1;33m             \u001b[0mword_vec\u001b[0m \u001b[1;33m=\u001b[0m \u001b[0mnp\u001b[0m\u001b[1;33m.\u001b[0m\u001b[0mzeros\u001b[0m\u001b[1;33m(\u001b[0m\u001b[0mself\u001b[0m\u001b[1;33m.\u001b[0m\u001b[0mvectors_ngrams\u001b[0m\u001b[1;33m.\u001b[0m\u001b[0mshape\u001b[0m\u001b[1;33m[\u001b[0m\u001b[1;36m1\u001b[0m\u001b[1;33m]\u001b[0m\u001b[1;33m,\u001b[0m \u001b[0mdtype\u001b[0m\u001b[1;33m=\u001b[0m\u001b[0mnp\u001b[0m\u001b[1;33m.\u001b[0m\u001b[0mfloat32\u001b[0m\u001b[1;33m)\u001b[0m\u001b[1;33m\u001b[0m\u001b[1;33m\u001b[0m\u001b[0m\n\u001b[0m\u001b[0;32m   1112\u001b[0m             \u001b[0mngram_weights\u001b[0m \u001b[1;33m=\u001b[0m \u001b[0mself\u001b[0m\u001b[1;33m.\u001b[0m\u001b[0mvectors_ngrams\u001b[0m\u001b[1;33m\u001b[0m\u001b[1;33m\u001b[0m\u001b[0m\n\u001b[0;32m   1113\u001b[0m             \u001b[0mngram_hashes\u001b[0m \u001b[1;33m=\u001b[0m \u001b[0mft_ngram_hashes\u001b[0m\u001b[1;33m(\u001b[0m\u001b[0mword\u001b[0m\u001b[1;33m,\u001b[0m \u001b[0mself\u001b[0m\u001b[1;33m.\u001b[0m\u001b[0mmin_n\u001b[0m\u001b[1;33m,\u001b[0m \u001b[0mself\u001b[0m\u001b[1;33m.\u001b[0m\u001b[0mmax_n\u001b[0m\u001b[1;33m,\u001b[0m \u001b[0mself\u001b[0m\u001b[1;33m.\u001b[0m\u001b[0mbucket\u001b[0m\u001b[1;33m)\u001b[0m\u001b[1;33m\u001b[0m\u001b[1;33m\u001b[0m\u001b[0m\n",
      "\u001b[1;31mAttributeError\u001b[0m: 'NoneType' object has no attribute 'shape'"
     ]
    }
   ],
   "source": [
    "print(model.wv['대한'])"
   ]
  },
  {
   "cell_type": "code",
   "execution_count": 98,
   "id": "7d79b92c-516f-477b-9d44-2edd2328c03c",
   "metadata": {},
   "outputs": [
    {
     "name": "stdout",
     "output_type": "stream",
     "text": [
      "[('teachers', 0.7598159909248352), ('teaches', 0.7168221473693848), ('teach', 0.6129273772239685), ('teaching', 0.5947589874267578), ('preacher', 0.5614587664604187), ('Teacher', 0.5571809411048889), ('educator', 0.5329986214637756), ('Educator', 0.5107240080833435), ('teachings', 0.5105742812156677), ('Teachers', 0.503318727016449)]\n"
     ]
    }
   ],
   "source": [
    "print(model.wv.most_similar('teacher'))"
   ]
  },
  {
   "cell_type": "code",
   "execution_count": 89,
   "id": "4fa1ee50-cfc5-4622-958f-240487326691",
   "metadata": {},
   "outputs": [
    {
     "name": "stdout",
     "output_type": "stream",
     "text": [
      "{'encoding': 'Windows-1252', 'confidence': 0.73, 'language': ''}\n"
     ]
    }
   ],
   "source": [
    "import chardet\n",
    "# 인코딩 알아내기\n",
    "print (chardet.detect (b'\\xed\\xa1\\x9c'))"
   ]
  },
  {
   "cell_type": "code",
   "execution_count": 95,
   "id": "e7bad4c8-6141-4178-8fb7-9c11af8ed659",
   "metadata": {},
   "outputs": [
    {
     "data": {
      "text/plain": [
       "'í§€'"
      ]
     },
     "execution_count": 95,
     "metadata": {},
     "output_type": "execute_result"
    }
   ],
   "source": [
    "b'\\xed\\xa7\\x80'.decode('Windows-1252')\n"
   ]
  },
  {
   "cell_type": "code",
   "execution_count": 101,
   "id": "a7352a8d-91bb-48ce-87d3-e344a2588c20",
   "metadata": {},
   "outputs": [],
   "source": [
    "from tensorflow.keras.models import Sequential\n",
    "from tensorflow.keras.layers import Dense, Embedding, Flatten\n",
    "\n",
    "e = Embedding(100, 100, weights=[model], input_length=max_len, trainable=True)"
   ]
  },
  {
   "cell_type": "code",
   "execution_count": null,
   "id": "2bfb9497-78e0-49df-8151-b557aa5ebe0b",
   "metadata": {},
   "outputs": [],
   "source": []
  }
 ],
 "metadata": {
  "kernelspec": {
   "display_name": "Python 3 (ipykernel)",
   "language": "python",
   "name": "python3"
  },
  "language_info": {
   "codemirror_mode": {
    "name": "ipython",
    "version": 3
   },
   "file_extension": ".py",
   "mimetype": "text/x-python",
   "name": "python",
   "nbconvert_exporter": "python",
   "pygments_lexer": "ipython3",
   "version": "3.7.5"
  }
 },
 "nbformat": 4,
 "nbformat_minor": 5
}
